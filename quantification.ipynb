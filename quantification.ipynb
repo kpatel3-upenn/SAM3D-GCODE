{
 "cells": [
  {
   "cell_type": "code",
   "execution_count": 2,
   "metadata": {},
   "outputs": [],
   "source": [
    "import numpy as np"
   ]
  },
  {
   "cell_type": "code",
   "execution_count": 4,
   "metadata": {},
   "outputs": [],
   "source": [
    "# Dice score calculation for 3D arrays, predicted and ground truth\n",
    "def dice_score(array1, array2):\n",
    "    intersection = np.sum(array1 * array2)\n",
    "    union = np.sum(array1) + np.sum(array2)\n",
    "    dice = (2 * intersection) / union\n",
    "    if union == 0:\n",
    "        return 1.0\n",
    "    return dice"
   ]
  },
  {
   "cell_type": "code",
   "execution_count": 7,
   "metadata": {},
   "outputs": [
    {
     "name": "stdout",
     "output_type": "stream",
     "text": [
      "Dice Score: 0.64\n"
     ]
    }
   ],
   "source": [
    "# test\n",
    "mask = np.array([[[1, 0, 1], [0, 1, 0], [1, 0, 1]],\n",
    "                   [[0, 1, 0], [1, 0, 1], [0, 1, 0]],\n",
    "                   [[1, 0, 1], [0, 1, 0], [1, 0, 1]]])\n",
    "\n",
    "truth = np.array([[[1, 0, 0], [0, 1, 0], [0, 0, 1]],\n",
    "                   [[0, 0, 1], [1, 1, 1], [1, 0, 0]],\n",
    "                   [[1, 0, 0], [0, 1, 0], [0, 0, 1]]])\n",
    "\n",
    "dice = dice_score(mask, truth)\n",
    "print(\"Dice Score:\", dice)"
   ]
  },
  {
   "cell_type": "code",
   "execution_count": 8,
   "metadata": {},
   "outputs": [],
   "source": [
    "# IoU calculation\n",
    "def iou_score(array1, array2):\n",
    "    intersection = np.sum(array1 * array2)\n",
    "    union = np.sum(np.logical_or(array1, array2))\n",
    "    iou = intersection / union\n",
    "    if union == 0:\n",
    "        return 1.0\n",
    "    else:\n",
    "        return iou\n"
   ]
  },
  {
   "cell_type": "code",
   "execution_count": 9,
   "metadata": {},
   "outputs": [
    {
     "name": "stdout",
     "output_type": "stream",
     "text": [
      "IoU Score: 0.47058823529411764\n"
     ]
    }
   ],
   "source": [
    "# test\n",
    "mask = np.array([[[1, 0, 1], [0, 1, 0], [1, 0, 1]],\n",
    "                   [[0, 1, 0], [1, 0, 1], [0, 1, 0]],\n",
    "                   [[1, 0, 1], [0, 1, 0], [1, 0, 1]]])\n",
    "\n",
    "truth = np.array([[[1, 0, 0], [0, 1, 0], [0, 0, 1]],\n",
    "                   [[0, 0, 1], [1, 1, 1], [1, 0, 0]],\n",
    "                   [[1, 0, 0], [0, 1, 0], [0, 0, 1]]])\n",
    "iou = iou_score(mask, truth)\n",
    "print(\"IoU Score:\", iou)\n"
   ]
  },
  {
   "cell_type": "code",
   "execution_count": null,
   "metadata": {},
   "outputs": [],
   "source": []
  }
 ],
 "metadata": {
  "kernelspec": {
   "display_name": "base",
   "language": "python",
   "name": "python3"
  },
  "language_info": {
   "codemirror_mode": {
    "name": "ipython",
    "version": 3
   },
   "file_extension": ".py",
   "mimetype": "text/x-python",
   "name": "python",
   "nbconvert_exporter": "python",
   "pygments_lexer": "ipython3",
   "version": "3.11.5"
  }
 },
 "nbformat": 4,
 "nbformat_minor": 2
}
