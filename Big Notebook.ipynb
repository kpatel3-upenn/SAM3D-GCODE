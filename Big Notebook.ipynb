{
 "cells": [
  {
   "cell_type": "code",
   "execution_count": null,
   "metadata": {},
   "outputs": [],
   "source": [
    "import geometry\n",
    "import scale_transform\n",
    "import numpy as np\n",
    "import matplotlib.pyplot as plt\n",
    "import cv2\n",
    "import json\n",
    "import platonics\n",
    "from segment_anything import sam_model_registry, SamPredictor\n",
    "import sys\n",
    "import segmentfunction\n",
    "import utils\n",
    "import math\n",
    "import time\n",
    "import tqdm\n",
    "from scipy.ndimage import binary_erosion, binary_dilation, binary_fill_holes"
   ]
  },
  {
   "cell_type": "code",
   "execution_count": null,
   "metadata": {},
   "outputs": [],
   "source": [
    "# configuration\n",
    "\n",
    "starttime = time.time()\n",
    "checkpointfilepath = r\"checkpoints/sam_vit_h_4b8939.pth\"\n",
    "num_slices = 100\n",
    "# transform_list = platonics.get_cube_transforms()\n",
    "transform_list = platonics.get_icosahedron_transforms()\n",
    "\n",
    "image = utils.padtocube(utils.load3dmatrix('images/I1351301'))\n",
    "            \n",
    "print(image.shape)\n",
    "\n",
    "plt.imshow(image[:,:,image.shape[2]//2])\n",
    "plt.show()\n",
    "plt.imshow(image[:,image.shape[1]//2,:])\n",
    "plt.show()\n",
    "plt.imshow(image[image.shape[0]//2,:,:])\n",
    "plt.show()"
   ]
  },
  {
   "cell_type": "code",
   "execution_count": null,
   "metadata": {},
   "outputs": [],
   "source": [
    "def get_prompt_slices(image, dirpath):\n",
    "    slices_list = []\n",
    "    for a, t in enumerate(transform_list):\n",
    "        transformed_img = scale_transform.global_to_local(image, t)\n",
    "        slice_transformed_img = transformed_img[:,:,transformed_img.shape[2]//2]\n",
    "        cv2.imwrite(f'{dirpath}/slice_{str(a).zfill(2)}.png', slice_transformed_img)\n",
    "\n",
    "        slice_info = dict()\n",
    "        slice_info['idx'] = transformed_img.shape[2]//2\n",
    "        slice_info['transform'] = t\n",
    "        slice_info['shape'] = transformed_img.shape\n",
    "        slices_list.append(slice_info)    \n",
    "\n",
    "    return slices_list\n",
    "\n",
    "def get_line_segments(slices_list, pos_polylines_slices, neg_polylines_slices):\n",
    "    pos_seg = []\n",
    "    neg_seg = []\n",
    "\n",
    "    for i, s in enumerate(slices_list):\n",
    "        idx = s['idx']\n",
    "        shape = s['shape']\n",
    "        transform_curr = s['transform']\n",
    "\n",
    "        for line in pos_polylines_slices[i]:\n",
    "            global_line = []\n",
    "            for point in line:\n",
    "                point = point[:2] + [idx]\n",
    "                print(point)\n",
    "                transformed_point = scale_transform.index_to_coord(point, transform_curr, shape)\n",
    "                print(transformed_point)\n",
    "                global_line.append(transformed_point)\n",
    "            for j in range(len(global_line) - 1):\n",
    "                pos_seg.append([global_line[j], global_line[j + 1]])\n",
    "\n",
    "        for line in neg_polylines_slices[i]:\n",
    "            global_line = []\n",
    "            for point in line:\n",
    "                point = point[:2] + [idx]\n",
    "                transformed_point = scale_transform.index_to_coord(point, transform_curr, shape)\n",
    "                global_line.append(transformed_point)\n",
    "            for j in range(len(global_line) - 1):\n",
    "                neg_seg.append([global_line[j], global_line[j + 1]])\n",
    "    # return zero centric points, global matrix\n",
    "    return pos_seg, neg_seg\n",
    "\n",
    "def get_intersections(matrix_shape, pos_seg, neg_seg, t, z):\n",
    "    # calculate intersection points\n",
    "    pos_intersects = []\n",
    "    neg_intersects = []\n",
    "\n",
    "    for p in pos_seg:\n",
    "        # zero centric points, local matrix\n",
    "        # z: zero centric\n",
    "        intersection = scale_transform.get_intersection_point(t.apply_to_point(p[0]), t.apply_to_point(p[1]), z)\n",
    "        if intersection:\n",
    "            pos_intersects.append(t.apply_to_point(intersection, inverse=True))\n",
    "\n",
    "    for n in neg_seg:\n",
    "        intersection = scale_transform.get_intersection_point(t.apply_to_point(n[0]), t.apply_to_point(n[1]), z) # z should be supplied as a global coordinate\n",
    "        if intersection:\n",
    "            neg_intersects.append(t.apply_to_point(intersection, inverse=True))\n",
    "\n",
    "    # need to transform inverse right?\n",
    "    # zero centric, local matrix -> matrix indexing, global\n",
    "    pos_intersects = [scale_transform.coord_to_index(pt, t, matrix_shape) for pt in pos_intersects]\n",
    "    neg_intersects = [scale_transform.coord_to_index(pt, t, matrix_shape) for pt in neg_intersects]\n",
    "    # print(f\"zero centric pos intersects: {pos_intersects}\")\n",
    "    # pos_intersects = [scale_transform.scale_backward(np.array(pt), matrix_shape) for pt in pos_intersects]\n",
    "    # neg_intersects = [scale_transform.scale_backward(np.array(pt), matrix_shape) for pt in neg_intersects]\n",
    "    # print(f\"matrix indexed pos intersects: {pos_intersects}\")\n",
    "    return pos_intersects, neg_intersects\n",
    "\n",
    "def normalize (image):\n",
    "    if np.min(image) == np.max(image):\n",
    "        return np.stack([image, image, image], axis=2)\n",
    "    image = (image - np.min(image)) / (np.max(image) - np.min(image)) * 255\n",
    "    image = image.astype(np.uint8)\n",
    "    stacked = np.stack([image, image, image], axis=2)\n",
    "    return stacked\n"
   ]
  },
  {
   "cell_type": "code",
   "execution_count": null,
   "metadata": {},
   "outputs": [],
   "source": [
    "# get prompt slices\n",
    "folder = r\"intermediates\"\n",
    "\n",
    "\n",
    "# image = utils.load3dmatrix(folder)\n",
    "# print(image.shape)\n",
    "# image = utils.padtocube(image)\n",
    "\n",
    "slices_list = get_prompt_slices(image, folder)"
   ]
  },
  {
   "cell_type": "code",
   "execution_count": null,
   "metadata": {},
   "outputs": [],
   "source": [
    "# given json with polylines\n",
    "# parse\n",
    "with open(folder + '/prompts.json', 'r') as file:\n",
    "    prompt_points = json.load(file)\n",
    "pos_polylines_slices = []\n",
    "neg_polylines_slices = []\n",
    "\n",
    "for prompt in prompt_points:\n",
    "    pos_polylines_slices.append(prompt['pos_polylines'])\n",
    "    neg_polylines_slices.append(prompt['neg_polylines'])\n",
    "\n",
    "# get pos, neg line segments\n",
    "pos_seg, neg_seg = get_line_segments(slices_list, pos_polylines_slices, neg_polylines_slices)"
   ]
  },
  {
   "cell_type": "code",
   "execution_count": null,
   "metadata": {},
   "outputs": [],
   "source": [
    "print(pos_seg)\n",
    "point = scale_transform.coord_to_index(pos_seg[0][0], transform_list[2], (220,220,220))\n",
    "print(point)"
   ]
  },
  {
   "cell_type": "code",
   "execution_count": null,
   "metadata": {},
   "outputs": [],
   "source": [
    "# initialize the model\n",
    "sam_checkpoint = checkpointfilepath\n",
    "model_type = \"vit_h\"\n",
    "device = \"cuda\"\n",
    "sam = sam_model_registry[model_type](checkpoint=sam_checkpoint)\n",
    "sam.to(device=device)\n",
    "predictor = SamPredictor(sam)"
   ]
  },
  {
   "cell_type": "code",
   "execution_count": null,
   "metadata": {},
   "outputs": [],
   "source": [
    "# BIG forloop\n",
    "prompting_slices_dict = dict()\n",
    "count = 0\n",
    "allpoints = []\n",
    "boundarypoints = []\n",
    "\n",
    "for t in tqdm.tqdm(transform_list):\n",
    "    transformed_img = scale_transform.global_to_local(image, t)\n",
    "    matrix_shape = np.array(transformed_img.shape)\n",
    "    \n",
    "    # z_coord_list = np.linspace(0, transformed_img.shape[2], num_slices + 1, endpoint=False, dtype=int)[1:] \n",
    "    # zero centric z coord\n",
    "    z_coord_list = np.linspace(-1,1, num_slices+2)[1:-1] \n",
    "\n",
    "    # t.plot_self()\n",
    "\n",
    "    for z in z_coord_list:\n",
    "        # get the slice of the rotated array\n",
    "        zidx = int((z+1)/2 * matrix_shape[2])\n",
    "        slice_transformed_img = transformed_img[:,:,zidx]\n",
    "        slice_shape = slice_transformed_img.shape\n",
    "        \n",
    "        pos_intersects, neg_intersects = get_intersections(matrix_shape, pos_seg, neg_seg, t, z)\n",
    "        # print(pos_intersects)\n",
    "        # print(neg_intersects)\n",
    "\n",
    "        # zero centric intersects\n",
    "        # pos_intersects = [pt[:2] for pt in pos_intersects]\n",
    "        # neg_intersects = [pt[:2] for pt in neg_intersects]\n",
    "        pos_intersects = [[pt[1],pt[0]] for pt in pos_intersects]\n",
    "        neg_intersects = [[pt[1],pt[0]] for pt in neg_intersects]\n",
    "\n",
    "        if len(pos_intersects) != 0:\n",
    "            prompt = [pos_intersects, neg_intersects]\n",
    "            points, boundary = segmentfunction.segment(predictor, normalize(slice_transformed_img), prompt)\n",
    "\n",
    "            # undersample points:\n",
    "            # undersample = 3\n",
    "            # points[1::undersample] = 0\n",
    "            # points[2::undersample] = 0\n",
    "            # points[:,1::undersample] = 0\n",
    "            # points[:,2::undersample] = 0\n",
    "\n",
    "            pointstobeconverted = []\n",
    "            for a in range(points.shape[0]):\n",
    "                for b in range(points.shape[1]):\n",
    "                    if points[a,b] == 1:\n",
    "                        pointstobeconverted.append([a,b,zidx])\n",
    "            \n",
    "            convertedpoints = [scale_transform.index_to_coord(p, t, matrix_shape) for p in pointstobeconverted]\n",
    "            for i in convertedpoints:\n",
    "                allpoints.append(i)\n",
    "\n",
    "\n",
    "            pointstobeconverted = []\n",
    "            for a in range(boundary.shape[0]):\n",
    "                for b in range(boundary.shape[1]):\n",
    "                    if boundary[a,b] == 1:\n",
    "                        pointstobeconverted.append([a,b,zidx])\n",
    "            \n",
    "            convertedpoints = [scale_transform.index_to_coord(p, t, matrix_shape) for p in pointstobeconverted]\n",
    "            for i in convertedpoints:\n",
    "                boundarypoints.append(i)\n",
    "\n"
   ]
  },
  {
   "cell_type": "code",
   "execution_count": null,
   "metadata": {},
   "outputs": [],
   "source": [
    "import open3d as o3d"
   ]
  },
  {
   "cell_type": "code",
   "execution_count": null,
   "metadata": {},
   "outputs": [],
   "source": [
    "pcd = o3d.geometry.PointCloud()\n",
    "n = np.zeros((len(allpoints), 3))\n",
    "for i in range(len(allpoints)):\n",
    "    n[i] = allpoints[i]\n",
    "pcd.points = o3d.utility.Vector3dVector(n)\n",
    "print(\"Time taken = \", time.time()-starttime)\n",
    "o3d.visualization.draw_geometries([pcd], window_name=\"Point Cloud\")"
   ]
  },
  {
   "cell_type": "code",
   "execution_count": null,
   "metadata": {},
   "outputs": [],
   "source": [
    "# import pointcloudmeshtouse\n",
    "from scipy.stats import gaussian_kde\n",
    "\n",
    "\n",
    "def create_density_mask(points, resolution=50, threshold=0.8):\n",
    "    \"\"\"\n",
    "    Create a 3D density mask from points using Gaussian KDE.\n",
    "    \n",
    "    Parameters:\n",
    "    - points: A numpy array of shape (n, 3), representing 3D points.\n",
    "    - resolution: The desired resolution for each dimension of the output grid.\n",
    "    - threshold_percentile: The percentile for density thresholding to create the mask.\n",
    "    \n",
    "    Returns:\n",
    "    - mask: A numpy array of shape (resolution, resolution, resolution), representing the 3D binary mask.\n",
    "    \"\"\"\n",
    "    # Calculate the Gaussian KDE for the input points\n",
    "    kde = gaussian_kde(points.T, bw_method=0.1)  # Transpose points to shape (3, n) for KDE\n",
    "    \n",
    "\n",
    "\n",
    "    # first pass\n",
    "    print('first pass')\n",
    "    # Generate a grid of new points within the range [-1, +1] for each dimension\n",
    "    x = np.linspace(-1, 1, resolution)\n",
    "    y = np.linspace(-1, 1, resolution)\n",
    "    z = np.linspace(-1, 1, resolution)\n",
    "    X, Y, Z = np.meshgrid(x, y, z, indexing='ij')\n",
    "    grid_points = np.vstack([X.ravel(), Y.ravel(), Z.ravel()])\n",
    "    \n",
    "    # Evaluate the KDE on the grid points to calculate densities\n",
    "    densities = kde(grid_points).reshape(resolution, resolution, resolution)\n",
    "    # Threshold the density array to create a 3D binary mask\n",
    "    mask = np.where(densities > threshold, 1, 0)\n",
    "\n",
    "    print('second pass')\n",
    "    nonzeros = np.nonzero(mask)\n",
    "    x_start = np.min(nonzeros[0])-1\n",
    "    x_end   = np.max(nonzeros[0])+2\n",
    "    y_start = np.min(nonzeros[1])-1\n",
    "    y_end   = np.max(nonzeros[1])+2\n",
    "    z_start = np.min(nonzeros[2])-1\n",
    "    z_end   = np.max(nonzeros[2])+2\n",
    "    # print(x_start, x_end, y_start, y_end, z_start, z_end)\n",
    "    # print(x_start/resolution*2-1, x_end/resolution*2-1)\n",
    "    x = np.linspace(x_start/resolution*2-1, x_end/resolution*2-1, resolution)\n",
    "    y = np.linspace(y_start/resolution*2-1, y_end/resolution*2-1, resolution)\n",
    "    z = np.linspace(z_start/resolution*2-1, z_end/resolution*2-1, resolution)\n",
    "    X, Y, Z = np.meshgrid(x, y, z, indexing='ij')\n",
    "    grid_points = np.vstack([X.ravel(), Y.ravel(), Z.ravel()])\n",
    "    \n",
    "    # # Evaluate the KDE on the grid points to calculate densities\n",
    "    densities = kde(grid_points).reshape(resolution, resolution, resolution)\n",
    "    # # Threshold the density array to create a 3D binary mask\n",
    "    mask = np.where(densities > threshold, 1, 0)\n",
    "\n",
    "    return mask\n",
    "\n",
    "def visualize_3d_mask(mask):\n",
    "    print(\"visualizing\")\n",
    "    fig = plt.figure()\n",
    "    ax = fig.add_subplot(111, projection='3d')\n",
    "    \n",
    "    # Generate the voxel coordinates\n",
    "    x, y, z = np.indices(np.array(mask.shape) + 1)\n",
    "    ax.voxels(x, y, z, mask, facecolors='blue', edgecolor='k')\n",
    "    ax.set_aspect('equal')\n",
    "    \n",
    "    plt.show()\n",
    "\n",
    "\n",
    "def octtree_density_mask(pcd):\n",
    "    print('octree division')\n",
    "    octree = o3d.geometry.Octree(max_depth=6)\n",
    "    octree.convert_from_point_cloud(pcd, size_expand=0)\n",
    "    o3d.visualization.draw_geometries([octree])\n",
    "    voxgrid = octree.to_voxel_grid()\n",
    "    return voxgrid\n",
    "\n",
    "def voxel_density_mask(pcd, vox_size = 0.01, resolution=64):\n",
    "    print('voxelization')\n",
    "    voxgrid = o3d.geometry.VoxelGrid.create_from_point_cloud_within_bounds(pcd, voxel_size = vox_size, min_bound = (-1,-1,-1), max_bound = (1,1,1))\n",
    "    # o3d.visualization.draw_geometries([voxgrid])\n",
    "\n",
    "    # get binary array\n",
    "    x = np.linspace(-1, 1, resolution)/3**0.5\n",
    "    y = np.linspace(-1, 1, resolution)/3**0.5\n",
    "    z = np.linspace(-1, 1, resolution)/3**0.5\n",
    "    X, Y, Z = np.meshgrid(x, y, z, indexing='ij')\n",
    "    queries = np.vstack([X.ravel(), Y.ravel(), Z.ravel()]).T\n",
    "    output = voxgrid.check_if_included(o3d.utility.Vector3dVector(queries))\n",
    "    output = np.array(output).reshape(resolution,resolution,resolution)\n",
    "    # mask processing:\n",
    "    dilated = binary_dilation(output, iterations = 5)\n",
    "    eroded = binary_erosion(dilated, iterations = 5)\n",
    "    mask = binary_fill_holes(eroded)\n",
    "    # mask = output\n",
    "    return mask"
   ]
  },
  {
   "cell_type": "code",
   "execution_count": null,
   "metadata": {},
   "outputs": [],
   "source": [
    "# densitymask = create_density_mask(np.array(allpoints))\n",
    "# octtree_density_mask(pcd)\n",
    "mask = voxel_density_mask(pcd, vox_size = 1/image.shape[0]*2, resolution=image.shape[0])# int(image.shape[0]*3**0.5))"
   ]
  },
  {
   "cell_type": "code",
   "execution_count": null,
   "metadata": {},
   "outputs": [],
   "source": [
    "fig, ax = plt.subplots(2,3)\n",
    "ax[0,0].imshow(image[128,:,:])\n",
    "ax[0,1].imshow(image[:,128,:])\n",
    "ax[0,2].imshow(image[:,:,128])\n",
    "\n",
    "ax[1,0].imshow(image[128,:,:])\n",
    "ax[1,0].imshow(mask[128,:,:], alpha=0.5, cmap = 'RdBu_r')\n",
    "ax[1,1].imshow(image[:,128,:])\n",
    "ax[1,1].imshow(mask[:,128,:], alpha=0.5, cmap = 'RdBu_r')\n",
    "ax[1,2].imshow(image[:,:,128])\n",
    "ax[1,2].imshow(mask[:,:,128], alpha=0.5, cmap = 'RdBu_r')"
   ]
  },
  {
   "cell_type": "code",
   "execution_count": null,
   "metadata": {},
   "outputs": [],
   "source": [
    "utils.save_mrc(image, 'outputs/adni_brain_img.mrc')\n",
    "utils.save_mrc(mask, 'outputs/adni_brain_mask_ventricles.mrc')"
   ]
  },
  {
   "cell_type": "code",
   "execution_count": null,
   "metadata": {},
   "outputs": [],
   "source": [
    "# import plotly.graph_objects as go\n",
    "# import numpy as np\n",
    "# X, Y, Z = np.mgrid[:mask.shape[0], :mask.shape[1],:mask.shape[2]]\n",
    "# values = mask\n",
    "\n",
    "# fig = go.Figure(data=go.Volume(\n",
    "#     x=X.flatten(),\n",
    "#     y=Y.flatten(),\n",
    "#     z=Z.flatten(),\n",
    "#     value=values.flatten(),\n",
    "#     isomin=0,\n",
    "#     isomax=1.1,\n",
    "#     opacity=0.2, # needs to be small to see through all surfaces\n",
    "#     surface_count=20, # needs to be a large number for good volume rendering\n",
    "#     ))\n",
    "# fig.show()"
   ]
  },
  {
   "cell_type": "code",
   "execution_count": null,
   "metadata": {},
   "outputs": [],
   "source": [
    "# boundary = o3d.geometry.PointCloud()\n",
    "# n = np.zeros((len(boundarypoints), 3))\n",
    "# for i in range(len(boundarypoints)):\n",
    "#     n[i] = boundarypoints[i]\n",
    "# boundary.points = o3d.utility.Vector3dVector(n)\n",
    "# print(\"Time taken = \", time.time()-starttime)\n",
    "# o3d.visualization.draw_geometries([pcd], window_name=\"Point Cloud\")\n",
    "\n",
    "\n",
    "# boundary.estimate_normals(search_param=o3d.geometry.KDTreeSearchParamHybrid(radius=0.1, max_nn=30))\n",
    "\n",
    "# # Optionally, you might want to orient the normals in a consistent manner, especially for visualization\n",
    "# boundary.orient_normals_consistent_tangent_plane(k=10)\n",
    "\n",
    "# poisson_mesh =o3d.geometry.TriangleMesh.create_from_point_cloud_poisson(boundary,depth=6, width=0, scale=1.1, linear_fit=False)[0]\n"
   ]
  },
  {
   "cell_type": "code",
   "execution_count": null,
   "metadata": {},
   "outputs": [],
   "source": [
    "# bbox = boundary.get_axis_aligned_bounding_box()\n",
    "# print(\"done3\")\n",
    "# p_mesh_crop = poisson_mesh.crop(bbox)\n",
    "# print(\"done4\")\n",
    "# o3d.visualization.draw_geometries([p_mesh_crop], window_name=\"Triangle Mesh\")"
   ]
  },
  {
   "cell_type": "code",
   "execution_count": 1,
   "metadata": {},
   "outputs": [
    {
     "name": "stdout",
     "output_type": "stream",
     "text": [
      "done\n"
     ]
    }
   ],
   "source": [
    "import geometry\n",
    "import scale_transform\n",
    "import numpy as np\n",
    "import matplotlib.pyplot as plt\n",
    "import cv2\n",
    "import json\n",
    "import platonics\n",
    "from segment_anything import sam_model_registry, SamPredictor\n",
    "import sys\n",
    "import segmentfunction\n",
    "import utils\n",
    "import math\n",
    "import time\n",
    "import tqdm\n",
    "from scipy.ndimage import binary_erosion, binary_dilation, binary_fill_holes"
   ]
  },
  {
   "cell_type": "code",
   "execution_count": 19,
   "metadata": {},
   "outputs": [],
   "source": [
    "transform_list = platonics.get_icosahedron_transforms()\n",
    "# transform_list = platonics.get_cube_transforms()\n",
    "# transform_list = platonics.get_dodecahedron_transforms()\n",
    "# transform_list = platonics.get_ortho_transforms()"
   ]
  },
  {
   "cell_type": "code",
   "execution_count": 20,
   "metadata": {},
   "outputs": [
    {
     "data": {
      "image/png": "[encoded data removed]",
      "text/plain": [
       "<Figure size 300x300 with 1 Axes>"
      ]
     },
     "metadata": {},
     "output_type": "display_data"
    },
    {
     "name": "stdout",
     "output_type": "stream",
     "text": [
      "<geometry.Transform object at 0x7eff6f59a7c0>\n"
     ]
    },
    {
     "data": {
      "image/png": "[encoded data removed]",
      "text/plain": [
       "<Figure size 300x300 with 1 Axes>"
      ]
     },
     "metadata": {},
     "output_type": "display_data"
    },
    {
     "name": "stdout",
     "output_type": "stream",
     "text": [
      "<geometry.Transform object at 0x7eff6f05feb0>\n"
     ]
    },
    {
     "data": {
      "image/png": "[encoded data removed]",
      "text/plain": [
       "<Figure size 300x300 with 1 Axes>"
      ]
     },
     "metadata": {},
     "output_type": "display_data"
    },
    {
     "name": "stdout",
     "output_type": "stream",
     "text": [
      "<geometry.Transform object at 0x7eff6f6f9580>\n"
     ]
    },
    {
     "data": {
      "image/png": "[encoded data removed]",
      "text/plain": [
       "<Figure size 300x300 with 1 Axes>"
      ]
     },
     "metadata": {},
     "output_type": "display_data"
    },
    {
     "name": "stdout",
     "output_type": "stream",
     "text": [
      "<geometry.Transform object at 0x7eff6f6f9910>\n"
     ]
    },
    {
     "data": {
      "image/png": "[encoded data removed]",
      "text/plain": [
       "<Figure size 300x300 with 1 Axes>"
      ]
     },
     "metadata": {},
     "output_type": "display_data"
    },
    {
     "name": "stdout",
     "output_type": "stream",
     "text": [
      "<geometry.Transform object at 0x7eff6f448ac0>\n"
     ]
    },
    {
     "data": {
      "image/png": "[encoded data removed]",
      "text/plain": [
       "<Figure size 300x300 with 1 Axes>"
      ]
     },
     "metadata": {},
     "output_type": "display_data"
    },
    {
     "name": "stdout",
     "output_type": "stream",
     "text": [
      "<geometry.Transform object at 0x7eff6f670c70>\n"
     ]
    }
   ],
   "source": [
    "for transform in transform_list:\n",
    "    transform.plot_self()\n",
    "    print(transform)"
   ]
  },
  {
   "cell_type": "code",
   "execution_count": 21,
   "metadata": {},
   "outputs": [
    {
     "data": {
      "text/plain": [
       "array([ 0.    , -0.526 ,  0.8506], dtype=float16)"
      ]
     },
     "execution_count": 21,
     "metadata": {},
     "output_type": "execute_result"
    }
   ],
   "source": [
    "testpt = [0,0,1]\n",
    "\n",
    "transform_list[0].apply_to_point(testpt).astype(np.float16)"
   ]
  },
  {
   "cell_type": "code",
   "execution_count": 22,
   "metadata": {},
   "outputs": [
    {
     "data": {
      "text/plain": [
       "array([ 0.    , -0.526 , -0.8506], dtype=float16)"
      ]
     },
     "execution_count": 22,
     "metadata": {},
     "output_type": "execute_result"
    }
   ],
   "source": [
    "transform_list[1].apply_to_point(testpt).astype(np.float16)"
   ]
  },
  {
   "cell_type": "code",
   "execution_count": 23,
   "metadata": {},
   "outputs": [
    {
     "data": {
      "text/plain": [
       "array([ 0.526 , -0.8506,  0.    ], dtype=float16)"
      ]
     },
     "execution_count": 23,
     "metadata": {},
     "output_type": "execute_result"
    }
   ],
   "source": [
    "transform_list[2].apply_to_point(testpt).astype(np.float16)"
   ]
  },
  {
   "cell_type": "code",
   "execution_count": 24,
   "metadata": {},
   "outputs": [
    {
     "data": {
      "text/plain": [
       "array([0.526 , 0.8506, 0.    ], dtype=float16)"
      ]
     },
     "execution_count": 24,
     "metadata": {},
     "output_type": "execute_result"
    }
   ],
   "source": [
    "transform_list[3].apply_to_point(testpt).astype(np.float16)"
   ]
  },
  {
   "cell_type": "code",
   "execution_count": 25,
   "metadata": {},
   "outputs": [
    {
     "data": {
      "text/plain": [
       "array([-0.8506,  0.    ,  0.526 ], dtype=float16)"
      ]
     },
     "execution_count": 25,
     "metadata": {},
     "output_type": "execute_result"
    }
   ],
   "source": [
    "transform_list[4].apply_to_point(testpt).astype(np.float16)"
   ]
  },
  {
   "cell_type": "code",
   "execution_count": 26,
   "metadata": {},
   "outputs": [
    {
     "data": {
      "text/plain": [
       "array([0.8506, 0.    , 0.526 ], dtype=float16)"
      ]
     },
     "execution_count": 26,
     "metadata": {},
     "output_type": "execute_result"
    }
   ],
   "source": [
    "transform_list[5].apply_to_point(testpt).astype(np.float16)"
   ]
  },
  {
   "cell_type": "code",
   "execution_count": 27,
   "metadata": {},
   "outputs": [
    {
     "ename": "IndexError",
     "evalue": "list index out of range",
     "output_type": "error",
     "traceback": [
      "\u001b[0;31m---------------------------------------------------------------------------\u001b[0m",
      "\u001b[0;31mIndexError\u001b[0m                                Traceback (most recent call last)",
      "\u001b[1;32m/home/trevor/trevor/repos/SAM3D/Big Notebook.ipynb Cell 27\u001b[0m line \u001b[0;36m1\n\u001b[0;32m----> <a href='vscode-notebook-cell://ssh-remote%2Bquiet/home/trevor/trevor/repos/SAM3D/Big%20Notebook.ipynb#X34sdnNjb2RlLXJlbW90ZQ%3D%3D?line=0'>1</a>\u001b[0m transform_list[\u001b[39m6\u001b[39;49m]\u001b[39m.\u001b[39mapply_to_point(testpt)\u001b[39m.\u001b[39mastype(np\u001b[39m.\u001b[39mfloat16)\n",
      "\u001b[0;31mIndexError\u001b[0m: list index out of range"
     ]
    }
   ],
   "source": [
    "transform_list[6].apply_to_point(testpt).astype(np.float16)"
   ]
  },
  {
   "cell_type": "code",
   "execution_count": 28,
   "metadata": {},
   "outputs": [
    {
     "ename": "IndexError",
     "evalue": "list index out of range",
     "output_type": "error",
     "traceback": [
      "\u001b[0;31m---------------------------------------------------------------------------\u001b[0m",
      "\u001b[0;31mIndexError\u001b[0m                                Traceback (most recent call last)",
      "\u001b[1;32m/home/trevor/trevor/repos/SAM3D/Big Notebook.ipynb Cell 28\u001b[0m line \u001b[0;36m1\n\u001b[0;32m----> <a href='vscode-notebook-cell://ssh-remote%2Bquiet/home/trevor/trevor/repos/SAM3D/Big%20Notebook.ipynb#X35sdnNjb2RlLXJlbW90ZQ%3D%3D?line=0'>1</a>\u001b[0m transform_list[\u001b[39m7\u001b[39;49m]\u001b[39m.\u001b[39mapply_to_point(testpt)\u001b[39m.\u001b[39mastype(np\u001b[39m.\u001b[39mfloat16)\n",
      "\u001b[0;31mIndexError\u001b[0m: list index out of range"
     ]
    }
   ],
   "source": [
    "transform_list[7].apply_to_point(testpt).astype(np.float16)"
   ]
  },
  {
   "cell_type": "code",
   "execution_count": 37,
   "metadata": {},
   "outputs": [
    {
     "data": {
      "text/plain": [
       "array([ 0.357,  0.   , -0.934], dtype=float16)"
      ]
     },
     "execution_count": 37,
     "metadata": {},
     "output_type": "execute_result"
    }
   ],
   "source": [
    "transform_list[8].apply_to_point(testpt).astype(np.float16)"
   ]
  },
  {
   "cell_type": "code",
   "execution_count": 38,
   "metadata": {},
   "outputs": [
    {
     "data": {
      "text/plain": [
       "array([0.357, 0.   , 0.934], dtype=float16)"
      ]
     },
     "execution_count": 38,
     "metadata": {},
     "output_type": "execute_result"
    }
   ],
   "source": [
    "transform_list[9].apply_to_point(testpt).astype(np.float16)"
   ]
  },
  {
   "cell_type": "code",
   "execution_count": null,
   "metadata": {},
   "outputs": [],
   "source": []
  }
 ],
 "metadata": {
  "kernelspec": {
   "display_name": "Python 3",
   "language": "python",
   "name": "python3"
  },
  "language_info": {
   "codemirror_mode": {
    "name": "ipython",
    "version": 3
   },
   "file_extension": ".py",
   "mimetype": "text/x-python",
   "name": "python",
   "nbconvert_exporter": "python",
   "pygments_lexer": "ipython3",
   "version": "3.9.18"
  }
 },
 "nbformat": 4,
 "nbformat_minor": 2
}
