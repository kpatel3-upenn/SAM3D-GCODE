{
 "cells": [
  {
   "cell_type": "code",
   "execution_count": 2,
   "metadata": {},
   "outputs": [],
   "source": [
    "import geometry\n",
    "import scale_transform\n",
    "import numpy as np\n",
    "import matplotlib.pyplot as plt\n",
    "import cv2\n",
    "import json\n",
    "import platonics"
   ]
  },
  {
   "cell_type": "code",
   "execution_count": 3,
   "metadata": {},
   "outputs": [
    {
     "data": {
      "text/plain": [
       "<matplotlib.image.AxesImage at 0x1e32cb99360>"
      ]
     },
     "execution_count": 3,
     "metadata": {},
     "output_type": "execute_result"
    },
    {
     "data": {
      "image/png": "[encoded data removed]",
      "text/plain": [
       "<Figure size 640x480 with 1 Axes>"
      ]
     },
     "metadata": {},
     "output_type": "display_data"
    }
   ],
   "source": [
    "# test case: 128*128*128 matrix with 64^3 in the center\n",
    "num_slices = 5\n",
    "\n",
    "test_1 = np.zeros((128, 128, 128))\n",
    "test_1[32:96, 48:80, 32:96] = 200\n",
    "test_2=np.ones((128,128,128))\n",
    "for i in range(128):\n",
    "    for j in range(128):\n",
    "        for k in range(128):\n",
    "            if ((i-64)**2+(j-64)**2+(k-64)**2)**0.5>50:\n",
    "                test_2[i,j,k]=0\n",
    "                \n",
    "plt.imshow(test_1[:,:,64])"
   ]
  },
  {
   "cell_type": "code",
   "execution_count": 4,
   "metadata": {},
   "outputs": [],
   "source": [
    "angle_list = [(0,0,0), (np.pi/2,0,0), (0,np.pi/2,0), (0,0,np.pi/2), (np.pi/4,0,0), (0,np.pi/4,0), (0,0,np.pi/4), (np.pi/8,0,0), (0,np.pi/8,0), (0,0,np.pi/8)]\n",
    "transform_list = []\n",
    "slices_list = []\n",
    "\n",
    "for a in angle_list:\n",
    "    transform_list.append(geometry.Transform(a, translation=(0, 0, 0)))\n",
    "\n",
    "for a, t in enumerate(transform_list):\n",
    "    transformed_img = scale_transform.global_to_local(test_1, t)\n",
    "    slice_transformed_img = transformed_img[:,:,transformed_img.shape[2]//2]\n",
    "    cv2.imwrite(f'slices_for_prompting/slice_{a}.png', slice_transformed_img)\n",
    "\n",
    "    slice_info = dict()\n",
    "    slice_info['idx'] = transformed_img.shape[2]//2\n",
    "    slice_info['transform'] = t\n",
    "    slice_info['shape'] = transformed_img.shape\n",
    "    slices_list.append(slice_info)\n",
    "\n"
   ]
  },
  {
   "cell_type": "code",
   "execution_count": 5,
   "metadata": {},
   "outputs": [
    {
     "data": {
      "text/plain": [
       "10"
      ]
     },
     "execution_count": 5,
     "metadata": {},
     "output_type": "execute_result"
    }
   ],
   "source": [
    "len(angle_list)"
   ]
  },
  {
   "cell_type": "code",
   "execution_count": 6,
   "metadata": {},
   "outputs": [],
   "source": [
    "\n",
    "\n",
    "# load image files and save prompt points\n",
    "\n"
   ]
  },
  {
   "cell_type": "code",
   "execution_count": 7,
   "metadata": {},
   "outputs": [],
   "source": [
    "# get test matrix\n",
    "\n",
    "# get the list of transforms\n",
    "\n",
    "# slice the matrix using global_to_local function. Do it to every transform.\n",
    "\n",
    "# Add prompting:\n",
    "    # save slices to image files (naming convention: 001.png)\n",
    "    # open image files and save prompt points to jason \n",
    "\n",
    "# convert prompt points to zero_centric coordinates using index_to_coord\n",
    "\n",
    "# for each transform:\n",
    "    # calculate the rotated array\n",
    "    # for n slices:\n",
    "        # get the slice of the rotated array,\n",
    "        # calculate the prompts intersecting with that slice\n",
    "        # feed into SAM inference function\n",
    "        # Get mask points for that slice\n",
    "        # Convert to global coord, append to list of global mask points\n",
    "        \n",
    "# take global mask points, convert to volumetric mask"
   ]
  },
  {
   "cell_type": "code",
   "execution_count": 8,
   "metadata": {},
   "outputs": [],
   "source": [
    "# parsing\n",
    "with open('test_data.json', 'r') as file:\n",
    "    prompt_points = json.load(file)\n",
    "pos_polylines_slices = []\n",
    "neg_polylines_slices = []\n",
    "\n",
    "for prompt in prompt_points:\n",
    "    pos_polylines_slices.append(prompt['pos_polylines'])\n",
    "    neg_polylines_slices.append(prompt['neg_polylines'])"
   ]
  },
  {
   "cell_type": "code",
   "execution_count": 9,
   "metadata": {},
   "outputs": [],
   "source": [
    "# get pos, neg line segments\n",
    "pos_seg = []\n",
    "neg_seg = []\n",
    "\n",
    "for i, s in enumerate(slices_list):\n",
    "    idx = s['idx']\n",
    "    shape = s['shape']\n",
    "    transform_curr = s['transform']\n",
    "\n",
    "    for line in pos_polylines_slices[i]:\n",
    "        global_line = []\n",
    "        for point in line:\n",
    "            scaled_point = scale_transform.scale_forward(point[:2] + [idx], shape)\n",
    "            transformed_point = scale_transform.coord_to_index(scaled_point, transform_curr, shape)\n",
    "            global_line.append(transformed_point)\n",
    "        for i in range(len(global_line) - 1):\n",
    "            pos_seg.append([global_line[i], global_line[i + 1]])\n",
    "\n",
    "    for line in neg_polylines_slices[i]:\n",
    "        global_line = []\n",
    "        for point in line:\n",
    "            scaled_point = scale_transform.scale_forward(point[:2] + [idx], shape)\n",
    "            transformed_point = scale_transform.coord_to_index(scaled_point, transform_curr, shape)\n",
    "            global_line.append(transformed_point)\n",
    "        for i in range(len(global_line) - 1):\n",
    "            neg_seg.append([global_line[i], global_line[i + 1]])\n"
   ]
  },
  {
   "cell_type": "code",
   "execution_count": 10,
   "metadata": {},
   "outputs": [
    {
     "name": "stdout",
     "output_type": "stream",
     "text": [
      "[] [(110.0, 169.44736842105263), (113.44444444444444, 109.0), (165.04545454545453, 109.0)]\n",
      "[] [(109.84269662921348, 187.0), (109.89887640449439, 22.640449438202246), (146.0, 185.92592592592592), (146.0, 30.57894736842105)]\n",
      "[(110.0, 98.66666666666669), (107.0, 110.0), (118.14285714285715, 110.0), (109.0, 131.0), (109.0, 73.0), (111.0, 110.0), (107.6, 104.0), (108.0, 124.5), (118.00000000000001, 109.71428571428572)] [(109.42696629213484, 187.0), (109.48314606741573, 37.60674157303371), (109.0, 187.0), (109.0, 37.58064516129032), (107.8, 170.175)]\n",
      "[] [(109.02247191011236, 187.0), (109.07865168539325, 52.168539325842694), (56.89473684210526, 110.0), (73.0, 149.0)]\n",
      "[] [(165.24137931034483, 110.0), (70.52631578947368, 110.0)]\n",
      "[] [(169.44736842105263, 110.00000000000001), (109.00000000000001, 106.55555555555554), (109.00000000000001, 54.95454545454544)]\n",
      "[] [(187.0, 110.15730337078654), (22.640449438202246, 110.10112359550558), (185.92592592592595, 74.00000000000003), (30.578947368421066, 73.99999999999999)]\n",
      "[(98.66666666666669, 110.0), (110.0, 113.0), (110.0, 101.85714285714285), (131.0, 111.00000000000001), (73.0, 111.0), (110.0, 108.99999999999999), (104.0, 112.4), (124.5, 112.0), (109.71428571428572, 101.99999999999999)] [(187.0, 110.57303370786519), (37.60674157303371, 110.51685393258424), (187.0, 111.00000000000003), (37.58064516129032, 111.0), (170.175, 112.20000000000002)]\n",
      "[] [(187.0, 110.97752808988766), (52.168539325842694, 110.92134831460672), (109.99999999999999, 163.10526315789474), (149.0, 147.0)]\n",
      "[] [(110.0, 54.75862068965516), (109.99999999999999, 149.47368421052633)]\n",
      "[] [(109.99999999999999, 38.0), (109.99999999999999, 145.0), (109.99999999999999, 119.8235294117647), (109.99999999999997, 153.68932038834953)]\n",
      "[] [(109.99999999999999, 176.60576923076923), (32.99999999999999, 110.0), (167.45454545454547, 109.0), (110.0, 182.0), (73.99999999999997, 148.99999999999994), (63.374999999999986, 156.625), (109.99999999999999, 161.95145631067962), (95.5, 177.0625), (85.35576923076923, 170.94230769230768)]\n",
      "[(110.0, 117.5), (110.0, 134.92307692307693), (108.8, 110.0), (90.5, 110.0), (110.0, 107.5925925925926), (110.0, 114.57142857142856), (110.0, 105.5), (111.00000000000001, 133.66666666666669), (124.25, 95.75), (111.49999999999999, 108.5), (110.0, 105.54166666666667), (111.09090909090911, 98.54545454545452), (110.85714285714286, 126.07142857142857), (106.26666666666667, 119.93333333333335)] [(110.0, 169.84615384615384), (33.0, 110.0), (182.5909090909091, 109.0), (110.0, 201.91666666666666), (111.0, 187.0), (111.0, 37.0), (68.0, 152.0), (110.0, 170.2135922330097), (110.91666666666667, 169.73958333333334), (87.84615384615384, 164.53846153846155)]\n",
      "[] [(33.000000000000014, 110.0), (197.3181818181818, 109.0), (110.00000000000001, 52.73033707865169), (147.0, 185.92592592592592), (147.0, 30.57894736842105)]\n",
      "[] [(50.55263157894738, 110.0), (110.00000000000001, 67.69662921348315)]\n",
      "[] [(110.0, 55.068965517241395), (109.0, 149.10526315789477), (75.0, 110.00000000000003), (147.79310344827587, 71.20689655172414), (82.21052631578948, 136.78947368421055)]\n",
      "[] [(109.0, 162.73684210526318), (38.000000000000014, 110.0), (72.47368421052632, 146.5263157894737)]\n",
      "[(100.33333333333333, 110.0), (107.33333333333333, 110.0), (112.66666666666667, 110.0), (110.0, 112.91428571428571), (96.85714285714286, 110.0), (114.0, 105.0), (114.0, 105.0), (111.0, 109.99999999999999), (103.70588235294117, 110.0), (104.96, 111.2), (118.11764705882354, 110.11764705882352)] [(49.15384615384615, 110.0), (198.0, 158.0), (44.0, 111.0), (40.575342465753415, 110.0), (197.24489795918367, 110.0)]\n",
      "[(108.89473684210526, 110.10526315789473)] [(42.57692307692308, 109.99999999999999), (57.342465753424655, 109.99999999999999), (198.58333333333331, 109.99999999999999)]\n",
      "[] [(109.5, 108.49999999999997), (110.0, 53.363636363636346), (110.0, 108.99999999999997), (148.77272727272728, 70.22727272727272)]\n",
      "[] [(152.03563661481206, 152.03563661481206), (111.72848321331873, 106.85730324851141), (148.21590674736285, 70.36987971446732)]\n",
      "[] [(164.33599094125663, 164.55845149782266), (48.15596527463934, 48.29897563243179), (189.14357985832072, 138.23189248420576), (79.2966797634175, 28.3849923893025)]\n",
      "[(101.98612328370413, 101.98612328370413), (107.87867969274521, 112.12132030725479), (115.75786940540586, 104.24213059459414), (124.14213538169861, 125.55634891986847), (83.12994277477266, 84.54415631294252), (110.70710676908493, 109.29289323091507), (104.06030313968658, 107.45441563129425), (118.83883461356163, 121.66726168990135), (115.45482364722662, 104.14111534186772)] [(164.04202520579435, 164.85241723328494), (58.44476601581894, 59.17570784453595), (163.7401144504547, 165.15432798862457), (58.08467721169995, 59.49889074986981), (150.99451493769885, 154.10578472167253)]\n",
      "[] [(163.75600449020942, 165.13843794886986), (68.455491061291, 69.75847432117783), (72.44890894701606, 147.55109105298394), (111.41421353816986, 163.7401144504547)]\n",
      "[] [(149.06155324393305, 70.93844675606695), (82.0878906940159, 137.9121093059841)]\n",
      "[] []\n",
      "[] [(73.0, 179.4056937631073), (147.0, 185.98812688430522), (147.0, 29.705373805625563), (58.48756647568483, 110.0), (195.49992465055905, 109.0), (73.0, 166.6740972966758), (73.0, 73.28796756890196), (73.0, 158.52916735751012)]\n",
      "[(110.0, 117.5), (110.0, 134.92307692307693), (110.0, 98.66666666666667), (108.78781696728298, 110.0), (126.12203433513642, 110.0), (84.44067727356423, 110.0), (110.0, 107.5925925925926), (110.0, 114.57142857142856), (110.0, 105.5), (110.84852812290191, 109.4), (110.0, 105.54166666666667), (112.12132030725478, 127.25), (115.65685415267944, 100.0), (104.34314584732056, 121.00000000000001)] [(110.0, 169.84615384615384), (109.18039897219701, 187.0), (109.26075201413849, 37.81818181818181), (41.41064339876175, 110.0), (197.8024576698031, 109.0), (110.0, 201.91666666666666), (42.11775016784669, 158.0), (110.0, 170.2135922330097), (112.22233555998122, 169.42857142857142), (76.40878358821278, 168.64948453608247)]\n",
      "[] [(72.58578646183014, 149.2397009688272), (37.10555756092072, 110.0), (146.0, 58.76203155284184), (88.40346445356099, 150.7269015547503), (117.60465987687255, 159.20195459689216)]\n",
      "[] [(74.10555756092072, 110.0)]\n",
      "[] [(109.73766073490616, 144.89444243907928), (136.6518054066484, 144.89444243907928)]\n",
      "[] [(109.14972924385758, 181.89444243907928), (177.26196658439935, 71.58578646183014), (53.32590270332421, 147.00000000000003), (84.3259027033242, 181.89444243907928), (74.6768686279301, 147.0), (71.91841235805346, 168.14342792261215)]\n",
      "[(100.33333333333333, 110.0), (107.33333333333333, 110.0), (112.66666666666667, 110.0), (110.0, 115.54806849589714), (107.0, 110.0), (118.14285714285715, 110.0), (96.85714285714286, 110.0), (114.0, 102.9289323091507), (103.70588235294117, 110.0), (104.29999999999998, 112.1213203072548), (118.2, 110.28284270763398)] [(49.15384615384615, 109.99999999999999), (109.0, 178.58935660123825), (110.0, 21.30860810620443), (40.575342465753415, 110.00000000000001), (197.24489795918367, 110.0), (72.375, 161.79557083547115), (158.79365079365078, 39.58114493271662)]\n",
      "[] [(39.85267218059414, 74.0), (109.0, 161.97397198585364), (109.88845869591042, 22.98532402965256), (194.18468322633038, 146.0), (62.38851704301237, 146.0), (161.71832412804, 74.0), (143.43933185367922, 25.29543064700232)]\n",
      "[] []\n",
      "[] [(132.74952262247862, 164.92220526306252), (112.79956819944914, 107.75798869464133), (160.47268382798543, 88.0111373568123)]\n",
      "[] [(139.32129445270206, 181.19891921656856), (76.47552186752972, 29.329000063491673), (172.3152556176539, 166.369803459556), (112.86654162250068, 22.84791393029062)]\n",
      "[(105.66292117039364, 99.52936561902365), (107.22836148738861, 111.14805027842522), (117.52301881994521, 106.8838635299887), (117.11247244477272, 129.78415301442146), (94.91683372855186, 76.19914177060127), (110.92387950420381, 109.61731657385826), (105.48658863306045, 105.3751631975174), (113.70115067064762, 124.16161966323853), (117.2816979118756, 106.67456701823644)] [(138.93720971499937, 181.35801232631286), (81.8187890806225, 43.31514373053326), (138.5427443087101, 181.52140524983406), (81.36243366714447, 43.47592578299583), (130.99544025883077, 166.43635270297528)]\n",
      "[] [(138.56350564588323, 181.51280562228033), (87.01764366633438, 56.92328351468183), (60.93713580307208, 130.32250405142182), (90.74111196398735, 160.1905874311924)]\n",
      "[] [(161.03637812877523, 88.86003970072187), (73.53107220248174, 125.10592471612127)]\n",
      "[] [(140.6518040563025, 164.79437544741995)]\n",
      "[] [(125.19209044655851, 187.0), (125.25318332699035, 21.418599570721845), (190.63633613014116, 109.0)]\n",
      "[(110.0, 117.5), (110.0, 134.92307692307693), (110.00000000000001, 98.66666666666667), (108.40475440775334, 110.0), (119.9968606305471, 110.0), (110.0, 107.5925925925926), (110.0, 114.57142857142856), (110.0, 105.5), (108.15224096502644, 129.11438187055575), (108.15224096502641, 79.71751458614543), (110.84817508578573, 109.67541743368), (109.99999999999999, 105.54166666666667), (116.1229347302359, 104.0237888337727)] [(110.0, 169.84615384615384), (109.37685261959524, 187.0), (109.43794550002708, 37.693743846562946), (47.674520355436734, 110.0), (110.00000000000001, 201.91666666666666), (108.15224096502641, 187.0), (108.15224096502641, 37.99122330237901), (110.00000000000003, 170.2135922330097), (40.8770726955653, 175.59137182816272)]\n",
      "[] [(94.00591936849105, 183.25337921676987), (94.05014653325202, 53.529019358192116), (46.24425537591678, 110.0), (196.91168699586666, 76.220351236337), (196.91168699586666, 84.26506038105629), (83.73390813838793, 153.31126264800375)]\n",
      "[] [(85.02689913907196, 110.0)]\n",
      "[] [(109.96856832038772, 162.69239316352784), (129.36080606341164, 78.26580377201138), (161.1979043193819, 78.26580377201138), (166.98251448506048, 137.1361951566548)]\n",
      "[] [(109.51858503232145, 178.0182951916791), (110.0, 30.358542266556704), (117.15406787660953, 178.0182951916791)]\n",
      "[(100.33333333333333, 110.0), (107.33333333333333, 109.99999999999999), (112.66666666666667, 110.00000000000003), (107.0, 110.0), (118.14285714285715, 110.0), (96.85714285714282, 110.00000000000001), (114.0, 96.93437088439453), (111.0, 110.00000000000001), (103.7058823529412, 109.99999999999997), (102.49517013828682, 116.06343760649202), (118.7048557240689, 118.23921085437824)] [(49.15384615384615, 110.00000000000001), (109.06860174425519, 193.34419721983036), (109.88788291824399, 15.871079834343853), (40.57534246575342, 109.99999999999999), (197.24489795918367, 110.0), (80.71001620439735, 183.92528719196662), (143.9059531486281, 18.78635244666481)]\n",
      "[] [(109.0, 162.8093675471723), (109.36194138179381, 51.2766683596234), (57.98751804374127, 124.91168845982284), (65.57173127386278, 136.57184346584472), (97.19068840881499, 53.94753007634213)]\n",
      "[] []\n"
     ]
    }
   ],
   "source": [
    "# convert prompt points to zero_centric coordinates using index_to_coord\n",
    "\n",
    "prompting_slices_dict = dict()\n",
    "count = 0\n",
    "\n",
    "for t in transform_list:\n",
    "    transformed_img = scale_transform.global_to_local(test_1, t)\n",
    "    matrix_shape = transformed_img.shape\n",
    "    \n",
    "    z_coord_list = np.linspace(0, transformed_img.shape[2], num_slices + 1, endpoint=False, dtype=int)[1:]  \n",
    "\n",
    "    for z in z_coord_list:\n",
    "        # get the slice of the rotated array\n",
    "        slice_transformed_img = transformed_img[:,:,z]\n",
    "        slice_shape = slice_transformed_img.shape\n",
    "        \n",
    "        # calculate intersection points\n",
    "        pos_intersects = []\n",
    "        neg_intersects = []\n",
    "\n",
    "        for p in pos_seg:\n",
    "            point_1 = scale_transform.scale_backward(scale_transform.index_to_coord(p[0], t, matrix_shape), matrix_shape)\n",
    "            point_2 = scale_transform.scale_backward(scale_transform.index_to_coord(p[1], t, matrix_shape), matrix_shape)\n",
    "\n",
    "            intersection = scale_transform.get_intersection_point(point_1, point_2, z)\n",
    "            if intersection:\n",
    "                pos_intersects.append(intersection[:2])\n",
    "\n",
    "        for n in neg_seg:\n",
    "            point_1 = scale_transform.scale_backward(scale_transform.index_to_coord(n[0], t, matrix_shape), matrix_shape)\n",
    "            point_2 = scale_transform.scale_backward(scale_transform.index_to_coord(n[1], t, matrix_shape), matrix_shape)\n",
    "\n",
    "            intersection = scale_transform.get_intersection_point(point_1, point_2, z)\n",
    "            if intersection:\n",
    "                neg_intersects.append(intersection[:2])\n",
    "\n",
    "        print(pos_intersects, neg_intersects)\n",
    "\n",
    "        if len(pos_intersects) != 0:\n",
    "            prompting_slices_dict[count] = {'image': slice_transformed_img, 'pos': pos_intersects, 'neg': neg_intersects}\n",
    "            count += 1\n",
    "        # prompting_slices_dict[slice_transformed_img] = (pos_intersects, neg_intersects)\n",
    "\n",
    "        # feed into SAM inference function``\n"
   ]
  },
  {
   "cell_type": "code",
   "execution_count": 11,
   "metadata": {},
   "outputs": [
    {
     "data": {
      "text/plain": [
       "11"
      ]
     },
     "execution_count": 11,
     "metadata": {},
     "output_type": "execute_result"
    }
   ],
   "source": [
    "len(prompting_slices_dict)"
   ]
  },
  {
   "cell_type": "markdown",
   "metadata": {},
   "source": [
    "the notebook we will use\n",
    "\n",
    "\n"
   ]
  }
 ],
 "metadata": {
  "kernelspec": {
   "display_name": "Python 3",
   "language": "python",
   "name": "python3"
  },
  "language_info": {
   "codemirror_mode": {
    "name": "ipython",
    "version": 3
   },
   "file_extension": ".py",
   "mimetype": "text/x-python",
   "name": "python",
   "nbconvert_exporter": "python",
   "pygments_lexer": "ipython3",
   "version": "3.10.4"
  }
 },
 "nbformat": 4,
 "nbformat_minor": 2
}
