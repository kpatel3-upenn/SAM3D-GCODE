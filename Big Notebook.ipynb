{
 "cells": [
  {
   "cell_type": "code",
   "execution_count": 1,
   "metadata": {},
   "outputs": [],
   "source": [
    "import geometry\n",
    "import scale_transform\n",
    "import numpy as np\n",
    "import matplotlib.pyplot as plt\n",
    "import cv2\n",
    "import json\n",
    "import platonics"
   ]
  },
  {
   "cell_type": "code",
   "execution_count": 2,
   "metadata": {},
   "outputs": [
    {
     "data": {
      "text/plain": [
       "<matplotlib.image.AxesImage at 0x1d9dfe91390>"
      ]
     },
     "execution_count": 2,
     "metadata": {},
     "output_type": "execute_result"
    },
    {
     "data": {
      "image/png": "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",
      "text/plain": [
       "<Figure size 640x480 with 1 Axes>"
      ]
     },
     "metadata": {},
     "output_type": "display_data"
    }
   ],
   "source": [
    "# test case: 128*128*128 matrix with 64^3 in the center\n",
    "\n",
    "#create test matrix\n",
    "\n",
    "num_slices = 5\n",
    "\n",
    "test_1 = np.zeros((128, 128, 128))\n",
    "test_1[32:96, 48:80, 32:96] = 200\n",
    "test_2=np.ones((128,128,128))\n",
    "for i in range(128):\n",
    "    for j in range(128):\n",
    "        for k in range(128):\n",
    "            if ((i-64)**2+(j-64)**2+(k-64)**2)**0.5>50:\n",
    "                test_2[i,j,k]=0\n",
    "                \n",
    "plt.imshow(test_1[:,:,64])"
   ]
  },
  {
   "cell_type": "code",
   "execution_count": 3,
   "metadata": {},
   "outputs": [],
   "source": [
<<<<<<< HEAD
    "#create slices for adding prompting points\n",
    "\n",
=======
>>>>>>> a422c337ce46ff8c278a4d5b8d91dc84c2d59929
    "angle_list = []\n",
    "slices_list = []\n",
    "transform_list = platonics.get_cube_transforms()\n",
    "\n",
    "for a, t in enumerate(transform_list):\n",
    "    transformed_img = scale_transform.global_to_local(test_1, t)\n",
    "    slice_transformed_img = transformed_img[:,:,transformed_img.shape[2]//2]\n",
    "    cv2.imwrite(f'slices_for_prompting/slice_{a}.png', slice_transformed_img)\n",
    "\n",
    "    slice_info = dict()\n",
    "    slice_info['idx'] = transformed_img.shape[2]//2\n",
    "    slice_info['transform'] = t\n",
    "    slice_info['shape'] = transformed_img.shape\n",
    "    slices_list.append(slice_info)    \n",
    "\n"
   ]
  },
  {
   "cell_type": "code",
   "execution_count": 4,
   "metadata": {},
   "outputs": [
    {
     "data": {
      "text/plain": [
       "10"
      ]
     },
     "execution_count": 4,
     "metadata": {},
     "output_type": "execute_result"
    }
   ],
   "source": [
    "len(angle_list)"
   ]
  },
  {
   "cell_type": "code",
   "execution_count": 5,
   "metadata": {},
   "outputs": [],
   "source": [
    "\n",
    "\n",
    "# load image files and save prompt points\n",
    "\n"
   ]
  },
  {
   "cell_type": "code",
   "execution_count": 6,
   "metadata": {},
   "outputs": [],
   "source": [
    "# get test matrix\n",
    "\n",
    "# get the list of transforms\n",
    "\n",
    "# slice the matrix using global_to_local function. Do it to every transform.\n",
    "\n",
    "# Add prompting:\n",
    "    # save slices to image files (naming convention: 001.png)\n",
    "    # open image files and save prompt points to jason \n",
    "\n",
    "# convert prompt points to zero_centric coordinates using index_to_coord\n",
    "\n",
    "# for each transform:\n",
    "    # calculate the rotated array\n",
    "    # for n slices:\n",
    "        # get the slice of the rotated array,\n",
    "        # calculate the prompts intersecting with that slice\n",
    "        # feed into SAM inference function\n",
    "        # Get mask points for that slice\n",
    "        # Convert to global coord, append to list of global mask points\n",
    "        \n",
    "# take global mask points, convert to volumetric mask"
   ]
  },
  {
   "cell_type": "code",
   "execution_count": 7,
   "metadata": {},
   "outputs": [],
   "source": [
    "# parsing\n",
    "with open('test_data.json', 'r') as file:\n",
    "    prompt_points = json.load(file)\n",
    "pos_polylines_slices = []\n",
    "neg_polylines_slices = []\n",
    "\n",
    "for prompt in prompt_points:\n",
    "    pos_polylines_slices.append(prompt['pos_polylines'])\n",
    "    neg_polylines_slices.append(prompt['neg_polylines'])"
   ]
  },
  {
   "cell_type": "code",
   "execution_count": 8,
   "metadata": {},
   "outputs": [],
   "source": [
    "# get pos, neg line segments\n",
    "pos_seg = []\n",
    "neg_seg = []\n",
    "\n",
    "for i, s in enumerate(slices_list):\n",
    "    idx = s['idx']\n",
    "    shape = s['shape']\n",
    "    transform_curr = s['transform']\n",
    "\n",
    "    for line in pos_polylines_slices[i]:\n",
    "        global_line = []\n",
    "        for point in line:\n",
    "            scaled_point = scale_transform.scale_forward(point[:2] + [idx], shape)\n",
    "            transformed_point = scale_transform.coord_to_index(scaled_point, transform_curr, shape)\n",
    "            global_line.append(transformed_point)\n",
    "        for i in range(len(global_line) - 1):\n",
    "            pos_seg.append([global_line[i], global_line[i + 1]])\n",
    "\n",
    "    for line in neg_polylines_slices[i]:\n",
    "        global_line = []\n",
    "        for point in line:\n",
    "            scaled_point = scale_transform.scale_forward(point[:2] + [idx], shape)\n",
    "            transformed_point = scale_transform.coord_to_index(scaled_point, transform_curr, shape)\n",
    "            global_line.append(transformed_point)\n",
    "        for i in range(len(global_line) - 1):\n",
    "            neg_seg.append([global_line[i], global_line[i + 1]])\n"
   ]
  },
  {
   "cell_type": "code",
   "execution_count": 9,
   "metadata": {},
   "outputs": [
    {
     "name": "stdout",
     "output_type": "stream",
     "text": [
      "[] [(110.0, 169.44736842105263), (113.44444444444444, 109.0), (165.04545454545453, 109.0)]\n",
      "[] [(109.84269662921348, 187.0), (109.89887640449439, 22.640449438202246), (146.0, 185.92592592592592), (146.0, 30.57894736842105)]\n",
      "[(110.0, 98.66666666666669), (107.0, 110.0), (118.14285714285715, 110.0), (109.0, 131.0), (109.0, 73.0), (111.0, 110.0), (107.6, 104.0), (108.0, 124.5), (118.00000000000001, 109.71428571428572)] [(109.42696629213484, 187.0), (109.48314606741573, 37.60674157303371), (109.0, 187.0), (109.0, 37.58064516129032), (107.8, 170.175)]\n",
      "[] [(109.02247191011236, 187.0), (109.07865168539325, 52.168539325842694), (56.89473684210526, 110.0), (73.0, 149.0)]\n",
      "[] [(165.24137931034483, 110.0), (70.52631578947368, 110.0)]\n",
      "[] [(169.44736842105263, 110.00000000000001), (109.00000000000001, 106.55555555555554), (109.00000000000001, 54.95454545454544)]\n",
      "[] [(187.0, 110.15730337078654), (22.640449438202246, 110.10112359550558), (185.92592592592595, 74.00000000000003), (30.578947368421066, 73.99999999999999)]\n",
      "[(98.66666666666669, 110.0), (110.0, 113.0), (110.0, 101.85714285714285), (131.0, 111.00000000000001), (73.0, 111.0), (110.0, 108.99999999999999), (104.0, 112.4), (124.5, 112.0), (109.71428571428572, 101.99999999999999)] [(187.0, 110.57303370786519), (37.60674157303371, 110.51685393258424), (187.0, 111.00000000000003), (37.58064516129032, 111.0), (170.175, 112.20000000000002)]\n",
      "[] [(187.0, 110.97752808988766), (52.168539325842694, 110.92134831460672), (109.99999999999999, 163.10526315789474), (149.0, 147.0)]\n",
      "[] [(110.0, 54.75862068965516), (109.99999999999999, 149.47368421052633)]\n",
      "[] [(109.99999999999999, 38.0), (109.99999999999999, 145.0), (109.99999999999999, 119.8235294117647), (109.99999999999997, 153.68932038834953)]\n",
      "[] [(109.99999999999999, 176.60576923076923), (32.99999999999999, 110.0), (167.45454545454547, 109.0), (110.0, 182.0), (73.99999999999997, 148.99999999999994), (63.374999999999986, 156.625), (109.99999999999999, 161.95145631067962), (95.5, 177.0625), (85.35576923076923, 170.94230769230768)]\n",
      "[(110.0, 117.5), (110.0, 134.92307692307693), (108.8, 110.0), (90.5, 110.0), (110.0, 107.5925925925926), (110.0, 114.57142857142856), (110.0, 105.5), (111.00000000000001, 133.66666666666669), (124.25, 95.75), (111.49999999999999, 108.5), (110.0, 105.54166666666667), (111.09090909090911, 98.54545454545452), (110.85714285714286, 126.07142857142857), (106.26666666666667, 119.93333333333335)] [(110.0, 169.84615384615384), (33.0, 110.0), (182.5909090909091, 109.0), (110.0, 201.91666666666666), (111.0, 187.0), (111.0, 37.0), (68.0, 152.0), (110.0, 170.2135922330097), (110.91666666666667, 169.73958333333334), (87.84615384615384, 164.53846153846155)]\n",
      "[] [(33.000000000000014, 110.0), (197.3181818181818, 109.0), (110.00000000000001, 52.73033707865169), (147.0, 185.92592592592592), (147.0, 30.57894736842105)]\n",
      "[] [(50.55263157894738, 110.0), (110.00000000000001, 67.69662921348315)]\n",
      "[] [(110.0, 55.068965517241395), (109.0, 149.10526315789477), (75.0, 110.00000000000003), (147.79310344827587, 71.20689655172414), (82.21052631578948, 136.78947368421055)]\n",
      "[] [(109.0, 162.73684210526318), (38.000000000000014, 110.0), (72.47368421052632, 146.5263157894737)]\n",
      "[(100.33333333333333, 110.0), (107.33333333333333, 110.0), (112.66666666666667, 110.0), (110.0, 112.91428571428571), (96.85714285714286, 110.0), (114.0, 105.0), (114.0, 105.0), (111.0, 109.99999999999999), (103.70588235294117, 110.0), (104.96, 111.2), (118.11764705882354, 110.11764705882352)] [(49.15384615384615, 110.0), (198.0, 158.0), (44.0, 111.0), (40.575342465753415, 110.0), (197.24489795918367, 110.0)]\n",
      "[(108.89473684210526, 110.10526315789473)] [(42.57692307692308, 109.99999999999999), (57.342465753424655, 109.99999999999999), (198.58333333333331, 109.99999999999999)]\n",
      "[] [(109.5, 108.49999999999997), (110.0, 53.363636363636346), (110.0, 108.99999999999997), (148.77272727272728, 70.22727272727272)]\n",
      "[] [(152.03563661481206, 152.03563661481206), (111.72848321331873, 106.85730324851141), (148.21590674736285, 70.36987971446732)]\n",
      "[] [(164.33599094125663, 164.55845149782266), (48.15596527463934, 48.29897563243179), (189.14357985832072, 138.23189248420576), (79.2966797634175, 28.3849923893025)]\n",
      "[(101.98612328370413, 101.98612328370413), (107.87867969274521, 112.12132030725479), (115.75786940540586, 104.24213059459414), (124.14213538169861, 125.55634891986847), (83.12994277477266, 84.54415631294252), (110.70710676908493, 109.29289323091507), (104.06030313968658, 107.45441563129425), (118.83883461356163, 121.66726168990135), (115.45482364722662, 104.14111534186772)] [(164.04202520579435, 164.85241723328494), (58.44476601581894, 59.17570784453595), (163.7401144504547, 165.15432798862457), (58.08467721169995, 59.49889074986981), (150.99451493769885, 154.10578472167253)]\n",
      "[] [(163.75600449020942, 165.13843794886986), (68.455491061291, 69.75847432117783), (72.44890894701606, 147.55109105298394), (111.41421353816986, 163.7401144504547)]\n",
      "[] [(149.06155324393305, 70.93844675606695), (82.0878906940159, 137.9121093059841)]\n",
      "[] []\n",
      "[] [(73.0, 179.4056937631073), (147.0, 185.98812688430522), (147.0, 29.705373805625563), (58.48756647568483, 110.0), (195.49992465055905, 109.0), (73.0, 166.6740972966758), (73.0, 73.28796756890196), (73.0, 158.52916735751012)]\n",
      "[(110.0, 117.5), (110.0, 134.92307692307693), (110.0, 98.66666666666667), (108.78781696728298, 110.0), (126.12203433513642, 110.0), (84.44067727356423, 110.0), (110.0, 107.5925925925926), (110.0, 114.57142857142856), (110.0, 105.5), (110.84852812290191, 109.4), (110.0, 105.54166666666667), (112.12132030725478, 127.25), (115.65685415267944, 100.0), (104.34314584732056, 121.00000000000001)] [(110.0, 169.84615384615384), (109.18039897219701, 187.0), (109.26075201413849, 37.81818181818181), (41.41064339876175, 110.0), (197.8024576698031, 109.0), (110.0, 201.91666666666666), (42.11775016784669, 158.0), (110.0, 170.2135922330097), (112.22233555998122, 169.42857142857142), (76.40878358821278, 168.64948453608247)]\n",
      "[] [(72.58578646183014, 149.2397009688272), (37.10555756092072, 110.0), (146.0, 58.76203155284184), (88.40346445356099, 150.7269015547503), (117.60465987687255, 159.20195459689216)]\n",
      "[] [(74.10555756092072, 110.0)]\n",
      "[] [(109.73766073490616, 144.89444243907928), (136.6518054066484, 144.89444243907928)]\n",
      "[] [(109.14972924385758, 181.89444243907928), (177.26196658439935, 71.58578646183014), (53.32590270332421, 147.00000000000003), (84.3259027033242, 181.89444243907928), (74.6768686279301, 147.0), (71.91841235805346, 168.14342792261215)]\n",
      "[(100.33333333333333, 110.0), (107.33333333333333, 110.0), (112.66666666666667, 110.0), (110.0, 115.54806849589714), (107.0, 110.0), (118.14285714285715, 110.0), (96.85714285714286, 110.0), (114.0, 102.9289323091507), (103.70588235294117, 110.0), (104.29999999999998, 112.1213203072548), (118.2, 110.28284270763398)] [(49.15384615384615, 109.99999999999999), (109.0, 178.58935660123825), (110.0, 21.30860810620443), (40.575342465753415, 110.00000000000001), (197.24489795918367, 110.0), (72.375, 161.79557083547115), (158.79365079365078, 39.58114493271662)]\n",
      "[] [(39.85267218059414, 74.0), (109.0, 161.97397198585364), (109.88845869591042, 22.98532402965256), (194.18468322633038, 146.0), (62.38851704301237, 146.0), (161.71832412804, 74.0), (143.43933185367922, 25.29543064700232)]\n",
      "[] []\n",
      "[] [(132.74952262247862, 164.92220526306252), (112.79956819944914, 107.75798869464133), (160.47268382798543, 88.0111373568123)]\n",
      "[] [(139.32129445270206, 181.19891921656856), (76.47552186752972, 29.329000063491673), (172.3152556176539, 166.369803459556), (112.86654162250068, 22.84791393029062)]\n",
      "[(105.66292117039364, 99.52936561902365), (107.22836148738861, 111.14805027842522), (117.52301881994521, 106.8838635299887), (117.11247244477272, 129.78415301442146), (94.91683372855186, 76.19914177060127), (110.92387950420381, 109.61731657385826), (105.48658863306045, 105.3751631975174), (113.70115067064762, 124.16161966323853), (117.2816979118756, 106.67456701823644)] [(138.93720971499937, 181.35801232631286), (81.8187890806225, 43.31514373053326), (138.5427443087101, 181.52140524983406), (81.36243366714447, 43.47592578299583), (130.99544025883077, 166.43635270297528)]\n",
      "[] [(138.56350564588323, 181.51280562228033), (87.01764366633438, 56.92328351468183), (60.93713580307208, 130.32250405142182), (90.74111196398735, 160.1905874311924)]\n",
      "[] [(161.03637812877523, 88.86003970072187), (73.53107220248174, 125.10592471612127)]\n",
      "[] [(140.6518040563025, 164.79437544741995)]\n",
      "[] [(125.19209044655851, 187.0), (125.25318332699035, 21.418599570721845), (190.63633613014116, 109.0)]\n",
      "[(110.0, 117.5), (110.0, 134.92307692307693), (110.00000000000001, 98.66666666666667), (108.40475440775334, 110.0), (119.9968606305471, 110.0), (110.0, 107.5925925925926), (110.0, 114.57142857142856), (110.0, 105.5), (108.15224096502644, 129.11438187055575), (108.15224096502641, 79.71751458614543), (110.84817508578573, 109.67541743368), (109.99999999999999, 105.54166666666667), (116.1229347302359, 104.0237888337727)] [(110.0, 169.84615384615384), (109.37685261959524, 187.0), (109.43794550002708, 37.693743846562946), (47.674520355436734, 110.0), (110.00000000000001, 201.91666666666666), (108.15224096502641, 187.0), (108.15224096502641, 37.99122330237901), (110.00000000000003, 170.2135922330097), (40.8770726955653, 175.59137182816272)]\n",
      "[] [(94.00591936849105, 183.25337921676987), (94.05014653325202, 53.529019358192116), (46.24425537591678, 110.0), (196.91168699586666, 76.220351236337), (196.91168699586666, 84.26506038105629), (83.73390813838793, 153.31126264800375)]\n",
      "[] [(85.02689913907196, 110.0)]\n",
      "[] [(109.96856832038772, 162.69239316352784), (129.36080606341164, 78.26580377201138), (161.1979043193819, 78.26580377201138), (166.98251448506048, 137.1361951566548)]\n",
      "[] [(109.51858503232145, 178.0182951916791), (110.0, 30.358542266556704), (117.15406787660953, 178.0182951916791)]\n",
      "[(100.33333333333333, 110.0), (107.33333333333333, 109.99999999999999), (112.66666666666667, 110.00000000000003), (107.0, 110.0), (118.14285714285715, 110.0), (96.85714285714282, 110.00000000000001), (114.0, 96.93437088439453), (111.0, 110.00000000000001), (103.7058823529412, 109.99999999999997), (102.49517013828682, 116.06343760649202), (118.7048557240689, 118.23921085437824)] [(49.15384615384615, 110.00000000000001), (109.06860174425519, 193.34419721983036), (109.88788291824399, 15.871079834343853), (40.57534246575342, 109.99999999999999), (197.24489795918367, 110.0), (80.71001620439735, 183.92528719196662), (143.9059531486281, 18.78635244666481)]\n",
      "[] [(109.0, 162.8093675471723), (109.36194138179381, 51.2766683596234), (57.98751804374127, 124.91168845982284), (65.57173127386278, 136.57184346584472), (97.19068840881499, 53.94753007634213)]\n",
      "[] []\n"
     ]
    }
   ],
   "source": [
    "# convert prompt points to zero_centric coordinates using index_to_coord\n",
    "\n",
    "prompting_slices_dict = dict()\n",
    "count = 0\n",
    "\n",
    "for t in transform_list:\n",
    "    transformed_img = scale_transform.global_to_local(test_1, t)\n",
    "    matrix_shape = transformed_img.shape\n",
    "    \n",
    "    z_coord_list = np.linspace(0, transformed_img.shape[2], num_slices + 1, endpoint=False, dtype=int)[1:]  \n",
    "\n",
    "    for z in z_coord_list:\n",
    "        # get the slice of the rotated array\n",
    "        slice_transformed_img = transformed_img[:,:,z]\n",
    "        slice_shape = slice_transformed_img.shape\n",
    "        \n",
    "        # calculate intersection points\n",
    "        pos_intersects = []\n",
    "        neg_intersects = []\n",
    "\n",
    "        for p in pos_seg:\n",
    "            point_1 = scale_transform.scale_backward(scale_transform.index_to_coord(p[0], t, matrix_shape), matrix_shape)\n",
    "            point_2 = scale_transform.scale_backward(scale_transform.index_to_coord(p[1], t, matrix_shape), matrix_shape)\n",
    "\n",
    "            intersection = scale_transform.get_intersection_point(point_1, point_2, z)\n",
    "            if intersection:\n",
    "                pos_intersects.append(intersection[:2])\n",
    "\n",
    "        for n in neg_seg:\n",
    "            point_1 = scale_transform.scale_backward(scale_transform.index_to_coord(n[0], t, matrix_shape), matrix_shape)\n",
    "            point_2 = scale_transform.scale_backward(scale_transform.index_to_coord(n[1], t, matrix_shape), matrix_shape)\n",
    "\n",
    "            intersection = scale_transform.get_intersection_point(point_1, point_2, z)\n",
    "            if intersection:\n",
    "                neg_intersects.append(intersection[:2])\n",
    "\n",
    "        print(pos_intersects, neg_intersects)\n",
    "\n",
    "        if len(pos_intersects) != 0:\n",
    "            prompting_slices_dict[count] = {'image': slice_transformed_img, 'pos': pos_intersects, 'neg': neg_intersects}\n",
    "            count += 1\n",
    "        # prompting_slices_dict[slice_transformed_img] = (pos_intersects, neg_intersects)\n",
    "\n",
    "        # feed into SAM inference function``\n"
   ]
  },
  {
   "cell_type": "code",
   "execution_count": 10,
   "metadata": {},
   "outputs": [
    {
     "data": {
      "text/plain": [
       "11"
      ]
     },
     "execution_count": 10,
     "metadata": {},
     "output_type": "execute_result"
    }
   ],
   "source": [
    "len(prompting_slices_dict)"
   ]
  },
  {
   "cell_type": "code",
   "execution_count": 11,
   "metadata": {},
   "outputs": [
    {
     "name": "stdout",
     "output_type": "stream",
     "text": [
      "{'image': array([[0., 0., 0., ..., 0., 0., 0.],\n",
      "       [0., 0., 0., ..., 0., 0., 0.],\n",
      "       [0., 0., 0., ..., 0., 0., 0.],\n",
      "       ...,\n",
      "       [0., 0., 0., ..., 0., 0., 0.],\n",
      "       [0., 0., 0., ..., 0., 0., 0.],\n",
      "       [0., 0., 0., ..., 0., 0., 0.]]), 'pos': [(110.0, 98.66666666666669), (107.0, 110.0), (118.14285714285715, 110.0), (109.0, 131.0), (109.0, 73.0), (111.0, 110.0), (107.6, 104.0), (108.0, 124.5), (118.00000000000001, 109.71428571428572)], 'neg': [(109.42696629213484, 187.0), (109.48314606741573, 37.60674157303371), (109.0, 187.0), (109.0, 37.58064516129032), (107.8, 170.175)]}\n"
     ]
    }
   ],
   "source": [
    "print(prompting_slices_dict[0])"
   ]
  },
  {
   "cell_type": "code",
   "execution_count": 12,
   "metadata": {},
   "outputs": [],
   "source": [
    "from segment_anything import sam_model_registry, SamPredictor\n"
   ]
  },
  {
   "cell_type": "code",
   "execution_count": 13,
   "metadata": {},
   "outputs": [
    {
     "data": {
      "image/png": "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",
      "text/plain": [
       "<Figure size 640x480 with 1 Axes>"
      ]
     },
     "metadata": {},
     "output_type": "display_data"
    }
   ],
   "source": [
    "for i in prompting_slices_dict:\n",
    "    image = prompting_slices_dict[i]['image']\n",
    "    pos_points = prompting_slices_dict[i]['pos']\n",
    "    neg_points = prompting_slices_dict[i]['neg']\n",
    "    plt.imshow(image)"
   ]
  },
  {
   "cell_type": "code",
   "execution_count": 14,
   "metadata": {},
   "outputs": [
    {
     "name": "stdout",
     "output_type": "stream",
     "text": [
      "done\n"
     ]
    }
   ],
   "source": [
    "checkpointfilepath = r\"C:\\\\Users\\\\aarus\\\\Downloads\\\\sam_vit_h_4b8939.pth\"\n",
    "import sys\n",
    "sys.path.append(\"..\")\n",
    "import segmentfunction\n",
    "from segment_anything import sam_model_registry, SamPredictor\n",
    "\n",
    "sam_checkpoint = checkpointfilepath\n",
    "model_type = \"vit_h\"\n",
    "\n",
    "# device = \"cuda\"\n",
    "\n",
    "sam = sam_model_registry[model_type](checkpoint=sam_checkpoint)\n",
    "# sam.to(device=device)\n",
    "\n",
    "predictor = SamPredictor(sam)\n",
    "\n",
    "\n",
    "\n",
    "    "
   ]
  },
  {
   "cell_type": "code",
   "execution_count": 15,
   "metadata": {},
   "outputs": [
    {
     "name": "stdout",
     "output_type": "stream",
     "text": [
      "<segment_anything.predictor.SamPredictor object at 0x000001D9850EC040>\n"
     ]
    }
   ],
   "source": [
    "print(predictor)"
   ]
  },
  {
   "cell_type": "markdown",
   "metadata": {},
   "source": []
  },
  {
   "cell_type": "code",
   "execution_count": 16,
   "metadata": {},
   "outputs": [
    {
     "name": "stdout",
     "output_type": "stream",
     "text": [
      "<class 'segment_anything.predictor.SamPredictor'>\n"
     ]
    }
   ],
   "source": [
    "print(SamPredictor)"
   ]
  },
  {
   "cell_type": "code",
   "execution_count": 30,
   "metadata": {},
   "outputs": [],
   "source": [
    "def normalize (image):\n",
    "    image = (image - np.min(image)) / (np.max(image) - np.min(image)) * 255\n",
    "    image = image.astype(np.uint8)\n",
    "    stacked = np.stack([image, image, image], axis=2)\n",
    "    return stacked"
   ]
  },
  {
   "cell_type": "code",
   "execution_count": 32,
   "metadata": {},
   "outputs": [
    {
     "name": "stdout",
     "output_type": "stream",
     "text": [
      "(220, 220, 3)\n"
     ]
    },
    {
     "ename": "KeyboardInterrupt",
     "evalue": "",
     "output_type": "error",
     "traceback": [
<<<<<<< HEAD
      "\u001b[1;31m---------------------------------------------------------------------------\u001b[0m",
      "\u001b[1;31mKeyboardInterrupt\u001b[0m                         Traceback (most recent call last)",
      "Cell \u001b[1;32mIn[32], line 8\u001b[0m\n\u001b[0;32m      6\u001b[0m \u001b[38;5;28mprint\u001b[39m(normalize(image)\u001b[38;5;241m.\u001b[39mshape)\n\u001b[0;32m      7\u001b[0m prompt \u001b[38;5;241m=\u001b[39m [pos_points, neg_points]\n\u001b[1;32m----> 8\u001b[0m \u001b[43msegmentfunction\u001b[49m\u001b[38;5;241;43m.\u001b[39;49m\u001b[43msegment\u001b[49m\u001b[43m(\u001b[49m\u001b[43mpredictor\u001b[49m\u001b[43m,\u001b[49m\u001b[43m \u001b[49m\u001b[43mnormalize\u001b[49m\u001b[43m(\u001b[49m\u001b[43mimage\u001b[49m\u001b[43m)\u001b[49m\u001b[43m,\u001b[49m\u001b[43m \u001b[49m\u001b[38;5;241;43m0\u001b[39;49m\u001b[43m,\u001b[49m\u001b[43m \u001b[49m\u001b[43mprompt\u001b[49m\u001b[43m)\u001b[49m\n\u001b[0;32m     10\u001b[0m \u001b[38;5;28mprint\u001b[39m(\u001b[38;5;124m\"\u001b[39m\u001b[38;5;124mdone\u001b[39m\u001b[38;5;124m\"\u001b[39m)\n",
      "File \u001b[1;32mc:\\Users\\aarus\\Downloads\\SAM3D\\segmentfunction.py:7\u001b[0m, in \u001b[0;36msegment\u001b[1;34m(predictor, image, zidx, promptlists)\u001b[0m\n\u001b[0;32m      6\u001b[0m \u001b[38;5;28;01mdef\u001b[39;00m \u001b[38;5;21msegment\u001b[39m(predictor,image, zidx, promptlists):\n\u001b[1;32m----> 7\u001b[0m     \u001b[43mpredictor\u001b[49m\u001b[38;5;241;43m.\u001b[39;49m\u001b[43mset_image\u001b[49m\u001b[43m(\u001b[49m\u001b[43mimage\u001b[49m\u001b[43m)\u001b[49m\n\u001b[0;32m      8\u001b[0m     \u001b[38;5;28mprint\u001b[39m(\u001b[38;5;124m\"\u001b[39m\u001b[38;5;124mdone2\u001b[39m\u001b[38;5;124m\"\u001b[39m)\n\u001b[0;32m      9\u001b[0m     pospoints \u001b[38;5;241m=\u001b[39m promptlists[\u001b[38;5;241m0\u001b[39m]\n",
      "File \u001b[1;32mc:\\Users\\aarus\\AppData\\Local\\Programs\\Python\\Python310\\lib\\site-packages\\segment_anything\\predictor.py:60\u001b[0m, in \u001b[0;36mSamPredictor.set_image\u001b[1;34m(self, image, image_format)\u001b[0m\n\u001b[0;32m     57\u001b[0m input_image_torch \u001b[38;5;241m=\u001b[39m torch\u001b[38;5;241m.\u001b[39mas_tensor(input_image, device\u001b[38;5;241m=\u001b[39m\u001b[38;5;28mself\u001b[39m\u001b[38;5;241m.\u001b[39mdevice)\n\u001b[0;32m     58\u001b[0m input_image_torch \u001b[38;5;241m=\u001b[39m input_image_torch\u001b[38;5;241m.\u001b[39mpermute(\u001b[38;5;241m2\u001b[39m, \u001b[38;5;241m0\u001b[39m, \u001b[38;5;241m1\u001b[39m)\u001b[38;5;241m.\u001b[39mcontiguous()[\u001b[38;5;28;01mNone\u001b[39;00m, :, :, :]\n\u001b[1;32m---> 60\u001b[0m \u001b[38;5;28;43mself\u001b[39;49m\u001b[38;5;241;43m.\u001b[39;49m\u001b[43mset_torch_image\u001b[49m\u001b[43m(\u001b[49m\u001b[43minput_image_torch\u001b[49m\u001b[43m,\u001b[49m\u001b[43m \u001b[49m\u001b[43mimage\u001b[49m\u001b[38;5;241;43m.\u001b[39;49m\u001b[43mshape\u001b[49m\u001b[43m[\u001b[49m\u001b[43m:\u001b[49m\u001b[38;5;241;43m2\u001b[39;49m\u001b[43m]\u001b[49m\u001b[43m)\u001b[49m\n",
      "File \u001b[1;32mc:\\Users\\aarus\\AppData\\Local\\Programs\\Python\\Python310\\lib\\site-packages\\torch\\autograd\\grad_mode.py:27\u001b[0m, in \u001b[0;36m_DecoratorContextManager.__call__.<locals>.decorate_context\u001b[1;34m(*args, **kwargs)\u001b[0m\n\u001b[0;32m     24\u001b[0m \u001b[38;5;129m@functools\u001b[39m\u001b[38;5;241m.\u001b[39mwraps(func)\n\u001b[0;32m     25\u001b[0m \u001b[38;5;28;01mdef\u001b[39;00m \u001b[38;5;21mdecorate_context\u001b[39m(\u001b[38;5;241m*\u001b[39margs, \u001b[38;5;241m*\u001b[39m\u001b[38;5;241m*\u001b[39mkwargs):\n\u001b[0;32m     26\u001b[0m     \u001b[38;5;28;01mwith\u001b[39;00m \u001b[38;5;28mself\u001b[39m\u001b[38;5;241m.\u001b[39mclone():\n\u001b[1;32m---> 27\u001b[0m         \u001b[38;5;28;01mreturn\u001b[39;00m func(\u001b[38;5;241m*\u001b[39margs, \u001b[38;5;241m*\u001b[39m\u001b[38;5;241m*\u001b[39mkwargs)\n",
      "File \u001b[1;32mc:\\Users\\aarus\\AppData\\Local\\Programs\\Python\\Python310\\lib\\site-packages\\segment_anything\\predictor.py:89\u001b[0m, in \u001b[0;36mSamPredictor.set_torch_image\u001b[1;34m(self, transformed_image, original_image_size)\u001b[0m\n\u001b[0;32m     87\u001b[0m \u001b[38;5;28mself\u001b[39m\u001b[38;5;241m.\u001b[39minput_size \u001b[38;5;241m=\u001b[39m \u001b[38;5;28mtuple\u001b[39m(transformed_image\u001b[38;5;241m.\u001b[39mshape[\u001b[38;5;241m-\u001b[39m\u001b[38;5;241m2\u001b[39m:])\n\u001b[0;32m     88\u001b[0m input_image \u001b[38;5;241m=\u001b[39m \u001b[38;5;28mself\u001b[39m\u001b[38;5;241m.\u001b[39mmodel\u001b[38;5;241m.\u001b[39mpreprocess(transformed_image)\n\u001b[1;32m---> 89\u001b[0m \u001b[38;5;28mself\u001b[39m\u001b[38;5;241m.\u001b[39mfeatures \u001b[38;5;241m=\u001b[39m \u001b[38;5;28;43mself\u001b[39;49m\u001b[38;5;241;43m.\u001b[39;49m\u001b[43mmodel\u001b[49m\u001b[38;5;241;43m.\u001b[39;49m\u001b[43mimage_encoder\u001b[49m\u001b[43m(\u001b[49m\u001b[43minput_image\u001b[49m\u001b[43m)\u001b[49m\n\u001b[0;32m     90\u001b[0m \u001b[38;5;28mself\u001b[39m\u001b[38;5;241m.\u001b[39mis_image_set \u001b[38;5;241m=\u001b[39m \u001b[38;5;28;01mTrue\u001b[39;00m\n",
      "File \u001b[1;32mc:\\Users\\aarus\\AppData\\Local\\Programs\\Python\\Python310\\lib\\site-packages\\torch\\nn\\modules\\module.py:1190\u001b[0m, in \u001b[0;36mModule._call_impl\u001b[1;34m(self, *input, **kwargs)\u001b[0m\n\u001b[0;32m   1186\u001b[0m \u001b[38;5;66;03m# If we don't have any hooks, we want to skip the rest of the logic in\u001b[39;00m\n\u001b[0;32m   1187\u001b[0m \u001b[38;5;66;03m# this function, and just call forward.\u001b[39;00m\n\u001b[0;32m   1188\u001b[0m \u001b[38;5;28;01mif\u001b[39;00m \u001b[38;5;129;01mnot\u001b[39;00m (\u001b[38;5;28mself\u001b[39m\u001b[38;5;241m.\u001b[39m_backward_hooks \u001b[38;5;129;01mor\u001b[39;00m \u001b[38;5;28mself\u001b[39m\u001b[38;5;241m.\u001b[39m_forward_hooks \u001b[38;5;129;01mor\u001b[39;00m \u001b[38;5;28mself\u001b[39m\u001b[38;5;241m.\u001b[39m_forward_pre_hooks \u001b[38;5;129;01mor\u001b[39;00m _global_backward_hooks\n\u001b[0;32m   1189\u001b[0m         \u001b[38;5;129;01mor\u001b[39;00m _global_forward_hooks \u001b[38;5;129;01mor\u001b[39;00m _global_forward_pre_hooks):\n\u001b[1;32m-> 1190\u001b[0m     \u001b[38;5;28;01mreturn\u001b[39;00m forward_call(\u001b[38;5;241m*\u001b[39m\u001b[38;5;28minput\u001b[39m, \u001b[38;5;241m*\u001b[39m\u001b[38;5;241m*\u001b[39mkwargs)\n\u001b[0;32m   1191\u001b[0m \u001b[38;5;66;03m# Do not call functions when jit is used\u001b[39;00m\n\u001b[0;32m   1192\u001b[0m full_backward_hooks, non_full_backward_hooks \u001b[38;5;241m=\u001b[39m [], []\n",
      "File \u001b[1;32mc:\\Users\\aarus\\AppData\\Local\\Programs\\Python\\Python310\\lib\\site-packages\\segment_anything\\modeling\\image_encoder.py:112\u001b[0m, in \u001b[0;36mImageEncoderViT.forward\u001b[1;34m(self, x)\u001b[0m\n\u001b[0;32m    109\u001b[0m     x \u001b[38;5;241m=\u001b[39m x \u001b[38;5;241m+\u001b[39m \u001b[38;5;28mself\u001b[39m\u001b[38;5;241m.\u001b[39mpos_embed\n\u001b[0;32m    111\u001b[0m \u001b[38;5;28;01mfor\u001b[39;00m blk \u001b[38;5;129;01min\u001b[39;00m \u001b[38;5;28mself\u001b[39m\u001b[38;5;241m.\u001b[39mblocks:\n\u001b[1;32m--> 112\u001b[0m     x \u001b[38;5;241m=\u001b[39m \u001b[43mblk\u001b[49m\u001b[43m(\u001b[49m\u001b[43mx\u001b[49m\u001b[43m)\u001b[49m\n\u001b[0;32m    114\u001b[0m x \u001b[38;5;241m=\u001b[39m \u001b[38;5;28mself\u001b[39m\u001b[38;5;241m.\u001b[39mneck(x\u001b[38;5;241m.\u001b[39mpermute(\u001b[38;5;241m0\u001b[39m, \u001b[38;5;241m3\u001b[39m, \u001b[38;5;241m1\u001b[39m, \u001b[38;5;241m2\u001b[39m))\n\u001b[0;32m    116\u001b[0m \u001b[38;5;28;01mreturn\u001b[39;00m x\n",
      "File \u001b[1;32mc:\\Users\\aarus\\AppData\\Local\\Programs\\Python\\Python310\\lib\\site-packages\\torch\\nn\\modules\\module.py:1190\u001b[0m, in \u001b[0;36mModule._call_impl\u001b[1;34m(self, *input, **kwargs)\u001b[0m\n\u001b[0;32m   1186\u001b[0m \u001b[38;5;66;03m# If we don't have any hooks, we want to skip the rest of the logic in\u001b[39;00m\n\u001b[0;32m   1187\u001b[0m \u001b[38;5;66;03m# this function, and just call forward.\u001b[39;00m\n\u001b[0;32m   1188\u001b[0m \u001b[38;5;28;01mif\u001b[39;00m \u001b[38;5;129;01mnot\u001b[39;00m (\u001b[38;5;28mself\u001b[39m\u001b[38;5;241m.\u001b[39m_backward_hooks \u001b[38;5;129;01mor\u001b[39;00m \u001b[38;5;28mself\u001b[39m\u001b[38;5;241m.\u001b[39m_forward_hooks \u001b[38;5;129;01mor\u001b[39;00m \u001b[38;5;28mself\u001b[39m\u001b[38;5;241m.\u001b[39m_forward_pre_hooks \u001b[38;5;129;01mor\u001b[39;00m _global_backward_hooks\n\u001b[0;32m   1189\u001b[0m         \u001b[38;5;129;01mor\u001b[39;00m _global_forward_hooks \u001b[38;5;129;01mor\u001b[39;00m _global_forward_pre_hooks):\n\u001b[1;32m-> 1190\u001b[0m     \u001b[38;5;28;01mreturn\u001b[39;00m forward_call(\u001b[38;5;241m*\u001b[39m\u001b[38;5;28minput\u001b[39m, \u001b[38;5;241m*\u001b[39m\u001b[38;5;241m*\u001b[39mkwargs)\n\u001b[0;32m   1191\u001b[0m \u001b[38;5;66;03m# Do not call functions when jit is used\u001b[39;00m\n\u001b[0;32m   1192\u001b[0m full_backward_hooks, non_full_backward_hooks \u001b[38;5;241m=\u001b[39m [], []\n",
      "File \u001b[1;32mc:\\Users\\aarus\\AppData\\Local\\Programs\\Python\\Python310\\lib\\site-packages\\segment_anything\\modeling\\image_encoder.py:180\u001b[0m, in \u001b[0;36mBlock.forward\u001b[1;34m(self, x)\u001b[0m\n\u001b[0;32m    177\u001b[0m     x \u001b[38;5;241m=\u001b[39m window_unpartition(x, \u001b[38;5;28mself\u001b[39m\u001b[38;5;241m.\u001b[39mwindow_size, pad_hw, (H, W))\n\u001b[0;32m    179\u001b[0m x \u001b[38;5;241m=\u001b[39m shortcut \u001b[38;5;241m+\u001b[39m x\n\u001b[1;32m--> 180\u001b[0m x \u001b[38;5;241m=\u001b[39m x \u001b[38;5;241m+\u001b[39m \u001b[38;5;28;43mself\u001b[39;49m\u001b[38;5;241;43m.\u001b[39;49m\u001b[43mmlp\u001b[49m\u001b[43m(\u001b[49m\u001b[38;5;28;43mself\u001b[39;49m\u001b[38;5;241;43m.\u001b[39;49m\u001b[43mnorm2\u001b[49m\u001b[43m(\u001b[49m\u001b[43mx\u001b[49m\u001b[43m)\u001b[49m\u001b[43m)\u001b[49m\n\u001b[0;32m    182\u001b[0m \u001b[38;5;28;01mreturn\u001b[39;00m x\n",
      "File \u001b[1;32mc:\\Users\\aarus\\AppData\\Local\\Programs\\Python\\Python310\\lib\\site-packages\\torch\\nn\\modules\\module.py:1190\u001b[0m, in \u001b[0;36mModule._call_impl\u001b[1;34m(self, *input, **kwargs)\u001b[0m\n\u001b[0;32m   1186\u001b[0m \u001b[38;5;66;03m# If we don't have any hooks, we want to skip the rest of the logic in\u001b[39;00m\n\u001b[0;32m   1187\u001b[0m \u001b[38;5;66;03m# this function, and just call forward.\u001b[39;00m\n\u001b[0;32m   1188\u001b[0m \u001b[38;5;28;01mif\u001b[39;00m \u001b[38;5;129;01mnot\u001b[39;00m (\u001b[38;5;28mself\u001b[39m\u001b[38;5;241m.\u001b[39m_backward_hooks \u001b[38;5;129;01mor\u001b[39;00m \u001b[38;5;28mself\u001b[39m\u001b[38;5;241m.\u001b[39m_forward_hooks \u001b[38;5;129;01mor\u001b[39;00m \u001b[38;5;28mself\u001b[39m\u001b[38;5;241m.\u001b[39m_forward_pre_hooks \u001b[38;5;129;01mor\u001b[39;00m _global_backward_hooks\n\u001b[0;32m   1189\u001b[0m         \u001b[38;5;129;01mor\u001b[39;00m _global_forward_hooks \u001b[38;5;129;01mor\u001b[39;00m _global_forward_pre_hooks):\n\u001b[1;32m-> 1190\u001b[0m     \u001b[38;5;28;01mreturn\u001b[39;00m forward_call(\u001b[38;5;241m*\u001b[39m\u001b[38;5;28minput\u001b[39m, \u001b[38;5;241m*\u001b[39m\u001b[38;5;241m*\u001b[39mkwargs)\n\u001b[0;32m   1191\u001b[0m \u001b[38;5;66;03m# Do not call functions when jit is used\u001b[39;00m\n\u001b[0;32m   1192\u001b[0m full_backward_hooks, non_full_backward_hooks \u001b[38;5;241m=\u001b[39m [], []\n",
      "File \u001b[1;32mc:\\Users\\aarus\\AppData\\Local\\Programs\\Python\\Python310\\lib\\site-packages\\segment_anything\\modeling\\common.py:26\u001b[0m, in \u001b[0;36mMLPBlock.forward\u001b[1;34m(self, x)\u001b[0m\n\u001b[0;32m     25\u001b[0m \u001b[38;5;28;01mdef\u001b[39;00m \u001b[38;5;21mforward\u001b[39m(\u001b[38;5;28mself\u001b[39m, x: torch\u001b[38;5;241m.\u001b[39mTensor) \u001b[38;5;241m-\u001b[39m\u001b[38;5;241m>\u001b[39m torch\u001b[38;5;241m.\u001b[39mTensor:\n\u001b[1;32m---> 26\u001b[0m     \u001b[38;5;28;01mreturn\u001b[39;00m \u001b[38;5;28;43mself\u001b[39;49m\u001b[38;5;241;43m.\u001b[39;49m\u001b[43mlin2\u001b[49m\u001b[43m(\u001b[49m\u001b[38;5;28;43mself\u001b[39;49m\u001b[38;5;241;43m.\u001b[39;49m\u001b[43mact\u001b[49m\u001b[43m(\u001b[49m\u001b[38;5;28;43mself\u001b[39;49m\u001b[38;5;241;43m.\u001b[39;49m\u001b[43mlin1\u001b[49m\u001b[43m(\u001b[49m\u001b[43mx\u001b[49m\u001b[43m)\u001b[49m\u001b[43m)\u001b[49m\u001b[43m)\u001b[49m\n",
      "File \u001b[1;32mc:\\Users\\aarus\\AppData\\Local\\Programs\\Python\\Python310\\lib\\site-packages\\torch\\nn\\modules\\module.py:1190\u001b[0m, in \u001b[0;36mModule._call_impl\u001b[1;34m(self, *input, **kwargs)\u001b[0m\n\u001b[0;32m   1186\u001b[0m \u001b[38;5;66;03m# If we don't have any hooks, we want to skip the rest of the logic in\u001b[39;00m\n\u001b[0;32m   1187\u001b[0m \u001b[38;5;66;03m# this function, and just call forward.\u001b[39;00m\n\u001b[0;32m   1188\u001b[0m \u001b[38;5;28;01mif\u001b[39;00m \u001b[38;5;129;01mnot\u001b[39;00m (\u001b[38;5;28mself\u001b[39m\u001b[38;5;241m.\u001b[39m_backward_hooks \u001b[38;5;129;01mor\u001b[39;00m \u001b[38;5;28mself\u001b[39m\u001b[38;5;241m.\u001b[39m_forward_hooks \u001b[38;5;129;01mor\u001b[39;00m \u001b[38;5;28mself\u001b[39m\u001b[38;5;241m.\u001b[39m_forward_pre_hooks \u001b[38;5;129;01mor\u001b[39;00m _global_backward_hooks\n\u001b[0;32m   1189\u001b[0m         \u001b[38;5;129;01mor\u001b[39;00m _global_forward_hooks \u001b[38;5;129;01mor\u001b[39;00m _global_forward_pre_hooks):\n\u001b[1;32m-> 1190\u001b[0m     \u001b[38;5;28;01mreturn\u001b[39;00m forward_call(\u001b[38;5;241m*\u001b[39m\u001b[38;5;28minput\u001b[39m, \u001b[38;5;241m*\u001b[39m\u001b[38;5;241m*\u001b[39mkwargs)\n\u001b[0;32m   1191\u001b[0m \u001b[38;5;66;03m# Do not call functions when jit is used\u001b[39;00m\n\u001b[0;32m   1192\u001b[0m full_backward_hooks, non_full_backward_hooks \u001b[38;5;241m=\u001b[39m [], []\n",
      "File \u001b[1;32mc:\\Users\\aarus\\AppData\\Local\\Programs\\Python\\Python310\\lib\\site-packages\\torch\\nn\\modules\\linear.py:114\u001b[0m, in \u001b[0;36mLinear.forward\u001b[1;34m(self, input)\u001b[0m\n\u001b[0;32m    113\u001b[0m \u001b[38;5;28;01mdef\u001b[39;00m \u001b[38;5;21mforward\u001b[39m(\u001b[38;5;28mself\u001b[39m, \u001b[38;5;28minput\u001b[39m: Tensor) \u001b[38;5;241m-\u001b[39m\u001b[38;5;241m>\u001b[39m Tensor:\n\u001b[1;32m--> 114\u001b[0m     \u001b[38;5;28;01mreturn\u001b[39;00m \u001b[43mF\u001b[49m\u001b[38;5;241;43m.\u001b[39;49m\u001b[43mlinear\u001b[49m\u001b[43m(\u001b[49m\u001b[38;5;28;43minput\u001b[39;49m\u001b[43m,\u001b[49m\u001b[43m \u001b[49m\u001b[38;5;28;43mself\u001b[39;49m\u001b[38;5;241;43m.\u001b[39;49m\u001b[43mweight\u001b[49m\u001b[43m,\u001b[49m\u001b[43m \u001b[49m\u001b[38;5;28;43mself\u001b[39;49m\u001b[38;5;241;43m.\u001b[39;49m\u001b[43mbias\u001b[49m\u001b[43m)\u001b[49m\n",
      "\u001b[1;31mKeyboardInterrupt\u001b[0m: "
=======
      "\u001B[1;31m---------------------------------------------------------------------------\u001B[0m",
      "\u001B[1;31mKeyboardInterrupt\u001B[0m                         Traceback (most recent call last)",
      "Cell \u001B[1;32mIn[31], line 8\u001B[0m\n\u001B[0;32m      6\u001B[0m \u001B[38;5;28mprint\u001B[39m(normalize(image)\u001B[38;5;241m.\u001B[39mshape)\n\u001B[0;32m      7\u001B[0m prompt \u001B[38;5;241m=\u001B[39m [pos_points, neg_points]\n\u001B[1;32m----> 8\u001B[0m \u001B[43msegmentfunction\u001B[49m\u001B[38;5;241;43m.\u001B[39;49m\u001B[43msegment\u001B[49m\u001B[43m(\u001B[49m\u001B[43mpredictor\u001B[49m\u001B[43m,\u001B[49m\u001B[43m \u001B[49m\u001B[43mnormalize\u001B[49m\u001B[43m(\u001B[49m\u001B[43mimage\u001B[49m\u001B[43m)\u001B[49m\u001B[43m,\u001B[49m\u001B[43m \u001B[49m\u001B[38;5;241;43m0\u001B[39;49m\u001B[43m,\u001B[49m\u001B[43m \u001B[49m\u001B[43mprompt\u001B[49m\u001B[43m)\u001B[49m\n\u001B[0;32m     10\u001B[0m \u001B[38;5;28mprint\u001B[39m(\u001B[38;5;124m\"\u001B[39m\u001B[38;5;124mdone\u001B[39m\u001B[38;5;124m\"\u001B[39m)\n",
      "File \u001B[1;32mc:\\Users\\aarus\\Downloads\\SAM3D\\segmentfunction.py:7\u001B[0m, in \u001B[0;36msegment\u001B[1;34m(predictor, image, zidx, promptlists)\u001B[0m\n\u001B[0;32m      6\u001B[0m \u001B[38;5;28;01mdef\u001B[39;00m \u001B[38;5;21msegment\u001B[39m(predictor,image, zidx, promptlists):\n\u001B[1;32m----> 7\u001B[0m     \u001B[43mpredictor\u001B[49m\u001B[38;5;241;43m.\u001B[39;49m\u001B[43mset_image\u001B[49m\u001B[43m(\u001B[49m\u001B[43mimage\u001B[49m\u001B[43m)\u001B[49m\n\u001B[0;32m      8\u001B[0m     \u001B[38;5;28mprint\u001B[39m(\u001B[38;5;124m\"\u001B[39m\u001B[38;5;124mdone2\u001B[39m\u001B[38;5;124m\"\u001B[39m)\n\u001B[0;32m      9\u001B[0m     pospoints \u001B[38;5;241m=\u001B[39m promptlists[\u001B[38;5;241m0\u001B[39m]\n",
      "File \u001B[1;32mc:\\Users\\aarus\\AppData\\Local\\Programs\\Python\\Python310\\lib\\site-packages\\segment_anything\\predictor.py:60\u001B[0m, in \u001B[0;36mSamPredictor.set_image\u001B[1;34m(self, image, image_format)\u001B[0m\n\u001B[0;32m     57\u001B[0m input_image_torch \u001B[38;5;241m=\u001B[39m torch\u001B[38;5;241m.\u001B[39mas_tensor(input_image, device\u001B[38;5;241m=\u001B[39m\u001B[38;5;28mself\u001B[39m\u001B[38;5;241m.\u001B[39mdevice)\n\u001B[0;32m     58\u001B[0m input_image_torch \u001B[38;5;241m=\u001B[39m input_image_torch\u001B[38;5;241m.\u001B[39mpermute(\u001B[38;5;241m2\u001B[39m, \u001B[38;5;241m0\u001B[39m, \u001B[38;5;241m1\u001B[39m)\u001B[38;5;241m.\u001B[39mcontiguous()[\u001B[38;5;28;01mNone\u001B[39;00m, :, :, :]\n\u001B[1;32m---> 60\u001B[0m \u001B[38;5;28;43mself\u001B[39;49m\u001B[38;5;241;43m.\u001B[39;49m\u001B[43mset_torch_image\u001B[49m\u001B[43m(\u001B[49m\u001B[43minput_image_torch\u001B[49m\u001B[43m,\u001B[49m\u001B[43m \u001B[49m\u001B[43mimage\u001B[49m\u001B[38;5;241;43m.\u001B[39;49m\u001B[43mshape\u001B[49m\u001B[43m[\u001B[49m\u001B[43m:\u001B[49m\u001B[38;5;241;43m2\u001B[39;49m\u001B[43m]\u001B[49m\u001B[43m)\u001B[49m\n",
      "File \u001B[1;32mc:\\Users\\aarus\\AppData\\Local\\Programs\\Python\\Python310\\lib\\site-packages\\torch\\autograd\\grad_mode.py:27\u001B[0m, in \u001B[0;36m_DecoratorContextManager.__call__.<locals>.decorate_context\u001B[1;34m(*args, **kwargs)\u001B[0m\n\u001B[0;32m     24\u001B[0m \u001B[38;5;129m@functools\u001B[39m\u001B[38;5;241m.\u001B[39mwraps(func)\n\u001B[0;32m     25\u001B[0m \u001B[38;5;28;01mdef\u001B[39;00m \u001B[38;5;21mdecorate_context\u001B[39m(\u001B[38;5;241m*\u001B[39margs, \u001B[38;5;241m*\u001B[39m\u001B[38;5;241m*\u001B[39mkwargs):\n\u001B[0;32m     26\u001B[0m     \u001B[38;5;28;01mwith\u001B[39;00m \u001B[38;5;28mself\u001B[39m\u001B[38;5;241m.\u001B[39mclone():\n\u001B[1;32m---> 27\u001B[0m         \u001B[38;5;28;01mreturn\u001B[39;00m func(\u001B[38;5;241m*\u001B[39margs, \u001B[38;5;241m*\u001B[39m\u001B[38;5;241m*\u001B[39mkwargs)\n",
      "File \u001B[1;32mc:\\Users\\aarus\\AppData\\Local\\Programs\\Python\\Python310\\lib\\site-packages\\segment_anything\\predictor.py:89\u001B[0m, in \u001B[0;36mSamPredictor.set_torch_image\u001B[1;34m(self, transformed_image, original_image_size)\u001B[0m\n\u001B[0;32m     87\u001B[0m \u001B[38;5;28mself\u001B[39m\u001B[38;5;241m.\u001B[39minput_size \u001B[38;5;241m=\u001B[39m \u001B[38;5;28mtuple\u001B[39m(transformed_image\u001B[38;5;241m.\u001B[39mshape[\u001B[38;5;241m-\u001B[39m\u001B[38;5;241m2\u001B[39m:])\n\u001B[0;32m     88\u001B[0m input_image \u001B[38;5;241m=\u001B[39m \u001B[38;5;28mself\u001B[39m\u001B[38;5;241m.\u001B[39mmodel\u001B[38;5;241m.\u001B[39mpreprocess(transformed_image)\n\u001B[1;32m---> 89\u001B[0m \u001B[38;5;28mself\u001B[39m\u001B[38;5;241m.\u001B[39mfeatures \u001B[38;5;241m=\u001B[39m \u001B[38;5;28;43mself\u001B[39;49m\u001B[38;5;241;43m.\u001B[39;49m\u001B[43mmodel\u001B[49m\u001B[38;5;241;43m.\u001B[39;49m\u001B[43mimage_encoder\u001B[49m\u001B[43m(\u001B[49m\u001B[43minput_image\u001B[49m\u001B[43m)\u001B[49m\n\u001B[0;32m     90\u001B[0m \u001B[38;5;28mself\u001B[39m\u001B[38;5;241m.\u001B[39mis_image_set \u001B[38;5;241m=\u001B[39m \u001B[38;5;28;01mTrue\u001B[39;00m\n",
      "File \u001B[1;32mc:\\Users\\aarus\\AppData\\Local\\Programs\\Python\\Python310\\lib\\site-packages\\torch\\nn\\modules\\module.py:1190\u001B[0m, in \u001B[0;36mModule._call_impl\u001B[1;34m(self, *input, **kwargs)\u001B[0m\n\u001B[0;32m   1186\u001B[0m \u001B[38;5;66;03m# If we don't have any hooks, we want to skip the rest of the logic in\u001B[39;00m\n\u001B[0;32m   1187\u001B[0m \u001B[38;5;66;03m# this function, and just call forward.\u001B[39;00m\n\u001B[0;32m   1188\u001B[0m \u001B[38;5;28;01mif\u001B[39;00m \u001B[38;5;129;01mnot\u001B[39;00m (\u001B[38;5;28mself\u001B[39m\u001B[38;5;241m.\u001B[39m_backward_hooks \u001B[38;5;129;01mor\u001B[39;00m \u001B[38;5;28mself\u001B[39m\u001B[38;5;241m.\u001B[39m_forward_hooks \u001B[38;5;129;01mor\u001B[39;00m \u001B[38;5;28mself\u001B[39m\u001B[38;5;241m.\u001B[39m_forward_pre_hooks \u001B[38;5;129;01mor\u001B[39;00m _global_backward_hooks\n\u001B[0;32m   1189\u001B[0m         \u001B[38;5;129;01mor\u001B[39;00m _global_forward_hooks \u001B[38;5;129;01mor\u001B[39;00m _global_forward_pre_hooks):\n\u001B[1;32m-> 1190\u001B[0m     \u001B[38;5;28;01mreturn\u001B[39;00m forward_call(\u001B[38;5;241m*\u001B[39m\u001B[38;5;28minput\u001B[39m, \u001B[38;5;241m*\u001B[39m\u001B[38;5;241m*\u001B[39mkwargs)\n\u001B[0;32m   1191\u001B[0m \u001B[38;5;66;03m# Do not call functions when jit is used\u001B[39;00m\n\u001B[0;32m   1192\u001B[0m full_backward_hooks, non_full_backward_hooks \u001B[38;5;241m=\u001B[39m [], []\n",
      "File \u001B[1;32mc:\\Users\\aarus\\AppData\\Local\\Programs\\Python\\Python310\\lib\\site-packages\\segment_anything\\modeling\\image_encoder.py:112\u001B[0m, in \u001B[0;36mImageEncoderViT.forward\u001B[1;34m(self, x)\u001B[0m\n\u001B[0;32m    109\u001B[0m     x \u001B[38;5;241m=\u001B[39m x \u001B[38;5;241m+\u001B[39m \u001B[38;5;28mself\u001B[39m\u001B[38;5;241m.\u001B[39mpos_embed\n\u001B[0;32m    111\u001B[0m \u001B[38;5;28;01mfor\u001B[39;00m blk \u001B[38;5;129;01min\u001B[39;00m \u001B[38;5;28mself\u001B[39m\u001B[38;5;241m.\u001B[39mblocks:\n\u001B[1;32m--> 112\u001B[0m     x \u001B[38;5;241m=\u001B[39m \u001B[43mblk\u001B[49m\u001B[43m(\u001B[49m\u001B[43mx\u001B[49m\u001B[43m)\u001B[49m\n\u001B[0;32m    114\u001B[0m x \u001B[38;5;241m=\u001B[39m \u001B[38;5;28mself\u001B[39m\u001B[38;5;241m.\u001B[39mneck(x\u001B[38;5;241m.\u001B[39mpermute(\u001B[38;5;241m0\u001B[39m, \u001B[38;5;241m3\u001B[39m, \u001B[38;5;241m1\u001B[39m, \u001B[38;5;241m2\u001B[39m))\n\u001B[0;32m    116\u001B[0m \u001B[38;5;28;01mreturn\u001B[39;00m x\n",
      "File \u001B[1;32mc:\\Users\\aarus\\AppData\\Local\\Programs\\Python\\Python310\\lib\\site-packages\\torch\\nn\\modules\\module.py:1190\u001B[0m, in \u001B[0;36mModule._call_impl\u001B[1;34m(self, *input, **kwargs)\u001B[0m\n\u001B[0;32m   1186\u001B[0m \u001B[38;5;66;03m# If we don't have any hooks, we want to skip the rest of the logic in\u001B[39;00m\n\u001B[0;32m   1187\u001B[0m \u001B[38;5;66;03m# this function, and just call forward.\u001B[39;00m\n\u001B[0;32m   1188\u001B[0m \u001B[38;5;28;01mif\u001B[39;00m \u001B[38;5;129;01mnot\u001B[39;00m (\u001B[38;5;28mself\u001B[39m\u001B[38;5;241m.\u001B[39m_backward_hooks \u001B[38;5;129;01mor\u001B[39;00m \u001B[38;5;28mself\u001B[39m\u001B[38;5;241m.\u001B[39m_forward_hooks \u001B[38;5;129;01mor\u001B[39;00m \u001B[38;5;28mself\u001B[39m\u001B[38;5;241m.\u001B[39m_forward_pre_hooks \u001B[38;5;129;01mor\u001B[39;00m _global_backward_hooks\n\u001B[0;32m   1189\u001B[0m         \u001B[38;5;129;01mor\u001B[39;00m _global_forward_hooks \u001B[38;5;129;01mor\u001B[39;00m _global_forward_pre_hooks):\n\u001B[1;32m-> 1190\u001B[0m     \u001B[38;5;28;01mreturn\u001B[39;00m forward_call(\u001B[38;5;241m*\u001B[39m\u001B[38;5;28minput\u001B[39m, \u001B[38;5;241m*\u001B[39m\u001B[38;5;241m*\u001B[39mkwargs)\n\u001B[0;32m   1191\u001B[0m \u001B[38;5;66;03m# Do not call functions when jit is used\u001B[39;00m\n\u001B[0;32m   1192\u001B[0m full_backward_hooks, non_full_backward_hooks \u001B[38;5;241m=\u001B[39m [], []\n",
      "File \u001B[1;32mc:\\Users\\aarus\\AppData\\Local\\Programs\\Python\\Python310\\lib\\site-packages\\segment_anything\\modeling\\image_encoder.py:174\u001B[0m, in \u001B[0;36mBlock.forward\u001B[1;34m(self, x)\u001B[0m\n\u001B[0;32m    171\u001B[0m     H, W \u001B[38;5;241m=\u001B[39m x\u001B[38;5;241m.\u001B[39mshape[\u001B[38;5;241m1\u001B[39m], x\u001B[38;5;241m.\u001B[39mshape[\u001B[38;5;241m2\u001B[39m]\n\u001B[0;32m    172\u001B[0m     x, pad_hw \u001B[38;5;241m=\u001B[39m window_partition(x, \u001B[38;5;28mself\u001B[39m\u001B[38;5;241m.\u001B[39mwindow_size)\n\u001B[1;32m--> 174\u001B[0m x \u001B[38;5;241m=\u001B[39m \u001B[38;5;28;43mself\u001B[39;49m\u001B[38;5;241;43m.\u001B[39;49m\u001B[43mattn\u001B[49m\u001B[43m(\u001B[49m\u001B[43mx\u001B[49m\u001B[43m)\u001B[49m\n\u001B[0;32m    175\u001B[0m \u001B[38;5;66;03m# Reverse window partition\u001B[39;00m\n\u001B[0;32m    176\u001B[0m \u001B[38;5;28;01mif\u001B[39;00m \u001B[38;5;28mself\u001B[39m\u001B[38;5;241m.\u001B[39mwindow_size \u001B[38;5;241m>\u001B[39m \u001B[38;5;241m0\u001B[39m:\n",
      "File \u001B[1;32mc:\\Users\\aarus\\AppData\\Local\\Programs\\Python\\Python310\\lib\\site-packages\\torch\\nn\\modules\\module.py:1190\u001B[0m, in \u001B[0;36mModule._call_impl\u001B[1;34m(self, *input, **kwargs)\u001B[0m\n\u001B[0;32m   1186\u001B[0m \u001B[38;5;66;03m# If we don't have any hooks, we want to skip the rest of the logic in\u001B[39;00m\n\u001B[0;32m   1187\u001B[0m \u001B[38;5;66;03m# this function, and just call forward.\u001B[39;00m\n\u001B[0;32m   1188\u001B[0m \u001B[38;5;28;01mif\u001B[39;00m \u001B[38;5;129;01mnot\u001B[39;00m (\u001B[38;5;28mself\u001B[39m\u001B[38;5;241m.\u001B[39m_backward_hooks \u001B[38;5;129;01mor\u001B[39;00m \u001B[38;5;28mself\u001B[39m\u001B[38;5;241m.\u001B[39m_forward_hooks \u001B[38;5;129;01mor\u001B[39;00m \u001B[38;5;28mself\u001B[39m\u001B[38;5;241m.\u001B[39m_forward_pre_hooks \u001B[38;5;129;01mor\u001B[39;00m _global_backward_hooks\n\u001B[0;32m   1189\u001B[0m         \u001B[38;5;129;01mor\u001B[39;00m _global_forward_hooks \u001B[38;5;129;01mor\u001B[39;00m _global_forward_pre_hooks):\n\u001B[1;32m-> 1190\u001B[0m     \u001B[38;5;28;01mreturn\u001B[39;00m forward_call(\u001B[38;5;241m*\u001B[39m\u001B[38;5;28minput\u001B[39m, \u001B[38;5;241m*\u001B[39m\u001B[38;5;241m*\u001B[39mkwargs)\n\u001B[0;32m   1191\u001B[0m \u001B[38;5;66;03m# Do not call functions when jit is used\u001B[39;00m\n\u001B[0;32m   1192\u001B[0m full_backward_hooks, non_full_backward_hooks \u001B[38;5;241m=\u001B[39m [], []\n",
      "File \u001B[1;32mc:\\Users\\aarus\\AppData\\Local\\Programs\\Python\\Python310\\lib\\site-packages\\segment_anything\\modeling\\image_encoder.py:236\u001B[0m, in \u001B[0;36mAttention.forward\u001B[1;34m(self, x)\u001B[0m\n\u001B[0;32m    233\u001B[0m \u001B[38;5;28;01mif\u001B[39;00m \u001B[38;5;28mself\u001B[39m\u001B[38;5;241m.\u001B[39muse_rel_pos:\n\u001B[0;32m    234\u001B[0m     attn \u001B[38;5;241m=\u001B[39m add_decomposed_rel_pos(attn, q, \u001B[38;5;28mself\u001B[39m\u001B[38;5;241m.\u001B[39mrel_pos_h, \u001B[38;5;28mself\u001B[39m\u001B[38;5;241m.\u001B[39mrel_pos_w, (H, W), (H, W))\n\u001B[1;32m--> 236\u001B[0m attn \u001B[38;5;241m=\u001B[39m \u001B[43mattn\u001B[49m\u001B[38;5;241;43m.\u001B[39;49m\u001B[43msoftmax\u001B[49m\u001B[43m(\u001B[49m\u001B[43mdim\u001B[49m\u001B[38;5;241;43m=\u001B[39;49m\u001B[38;5;241;43m-\u001B[39;49m\u001B[38;5;241;43m1\u001B[39;49m\u001B[43m)\u001B[49m\n\u001B[0;32m    237\u001B[0m x \u001B[38;5;241m=\u001B[39m (attn \u001B[38;5;241m@\u001B[39m v)\u001B[38;5;241m.\u001B[39mview(B, \u001B[38;5;28mself\u001B[39m\u001B[38;5;241m.\u001B[39mnum_heads, H, W, \u001B[38;5;241m-\u001B[39m\u001B[38;5;241m1\u001B[39m)\u001B[38;5;241m.\u001B[39mpermute(\u001B[38;5;241m0\u001B[39m, \u001B[38;5;241m2\u001B[39m, \u001B[38;5;241m3\u001B[39m, \u001B[38;5;241m1\u001B[39m, \u001B[38;5;241m4\u001B[39m)\u001B[38;5;241m.\u001B[39mreshape(B, H, W, \u001B[38;5;241m-\u001B[39m\u001B[38;5;241m1\u001B[39m)\n\u001B[0;32m    238\u001B[0m x \u001B[38;5;241m=\u001B[39m \u001B[38;5;28mself\u001B[39m\u001B[38;5;241m.\u001B[39mproj(x)\n",
      "\u001B[1;31mKeyboardInterrupt\u001B[0m: "
>>>>>>> a422c337ce46ff8c278a4d5b8d91dc84c2d59929
     ]
    }
   ],
   "source": [
    "for i in prompting_slices_dict:\n",
    "    image = prompting_slices_dict[i]['image']\n",
    "    \n",
    "    pos_points = prompting_slices_dict[i]['pos']\n",
    "    neg_points = prompting_slices_dict[i]['neg']\n",
    "    print(normalize(image).shape)\n",
    "    prompt = [pos_points, neg_points]\n",
    "    segmentfunction.segment(predictor, normalize(image), 0, prompt)\n",
    "\n",
    "    print(\"done\")"
   ]
  },
  {
   "cell_type": "code",
   "execution_count": null,
   "metadata": {},
   "outputs": [],
   "source": []
  }
 ],
 "metadata": {
  "kernelspec": {
   "display_name": "Python 3",
   "language": "python",
   "name": "python3"
  },
  "language_info": {
   "codemirror_mode": {
    "name": "ipython",
    "version": 3
   },
   "file_extension": ".py",
   "mimetype": "text/x-python",
   "name": "python",
   "nbconvert_exporter": "python",
   "pygments_lexer": "ipython3",
   "version": "3.10.4"
  }
 },
 "nbformat": 4,
 "nbformat_minor": 2
}
