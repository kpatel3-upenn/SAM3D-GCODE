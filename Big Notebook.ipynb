{
 "cells": [
  {
   "cell_type": "code",
   "execution_count": 2,
   "metadata": {},
   "outputs": [],
   "source": [
    "import geometry\n",
    "import scale_transform\n",
    "import numpy as np\n",
    "import matplotlib.pyplot as plt\n",
    "import cv2\n",
    "import json"
   ]
  },
  {
   "cell_type": "code",
   "execution_count": 40,
   "metadata": {},
   "outputs": [
    {
     "data": {
      "text/plain": [
       "<matplotlib.image.AxesImage at 0x143b9f5f0>"
      ]
     },
     "execution_count": 40,
     "metadata": {},
     "output_type": "execute_result"
    },
    {
     "data": {
      "image/png": "[encoded data removed]",
      "text/plain": [
       "<Figure size 640x480 with 1 Axes>"
      ]
     },
     "metadata": {},
     "output_type": "display_data"
    }
   ],
   "source": [
    "# test case: 128*128*128 matrix with 64^3 in the center\n",
    "num_slices = 5\n",
    "\n",
    "test_1 = np.zeros((128, 128, 128))\n",
    "test_1[32:96, 48:80, 32:96] = 200\n",
    "test_2=np.ones((128,128,128))\n",
    "for i in range(128):\n",
    "    for j in range(128):\n",
    "        for k in range(128):\n",
    "            if ((i-64)**2+(j-64)**2+(k-64)**2)**0.5>50:\n",
    "                test_2[i,j,k]=0\n",
    "                \n",
    "plt.imshow(test_1[:,:,64])"
   ]
  },
  {
   "cell_type": "code",
   "execution_count": 39,
   "metadata": {},
   "outputs": [],
   "source": [
    "angle_list = [(0,0,0), (np.pi/2,0,0), (0,np.pi/2,0), (0,0,np.pi/2), (np.pi/4,0,0), (0,np.pi/4,0), (0,0,np.pi/4), (np.pi/8,0,0), (0,np.pi/8,0), (0,0,np.pi/8)]\n",
    "transform_list = []\n",
    "slices_list = []\n",
    "\n",
    "for a in angle_list:\n",
    "    transform_list.append(geometry.Transform(a, translation=(0, 0, 0)))\n",
    "\n",
    "for a, t in enumerate(transform_list):\n",
    "    transformed_img = scale_transform.global_to_local(test_1, t)\n",
    "    slice_transformed_img = transformed_img[:,:,transformed_img.shape[2]//2]\n",
    "    cv2.imwrite(f'slices_for_prompting/slice_{a}.png', slice_transformed_img)\n",
    "\n",
    "    slice_info = dict()\n",
    "    slice_info['idx'] = transformed_img.shape[2]//2\n",
    "    slice_info['transform'] = t\n",
    "    slice_info['shape'] = transformed_img.shape\n",
    "    slices_list.append(slice_info)\n",
    "\n"
   ]
  },
  {
   "cell_type": "code",
   "execution_count": null,
   "metadata": {},
   "outputs": [],
   "source": [
    "\n",
    "\n",
    "# load image files and save prompt points\n",
    "\n"
   ]
  },
  {
   "cell_type": "code",
   "execution_count": null,
   "metadata": {},
   "outputs": [],
   "source": [
    "# get test matrix\n",
    "\n",
    "# get the list of transforms\n",
    "\n",
    "# slice the matrix using global_to_local function. Do it to every transform.\n",
    "\n",
    "# Add prompting:\n",
    "    # save slices to image files (naming convention: 001.png)\n",
    "    # open image files and save prompt points to jason \n",
    "\n",
    "# convert prompt points to zero_centric coordinates using index_to_coord\n",
    "\n",
    "# for each transform:\n",
    "    # calculate the rotated array\n",
    "    # for n slices:\n",
    "        # get the slice of the rotated array,\n",
    "        # calculate the prompts intersecting with that slice\n",
    "        # feed into SAM inference function\n",
    "        # Get mask points for that slice\n",
    "        # Convert to global coord, append to list of global mask points\n",
    "        \n",
    "# take global mask points, convert to volumetric mask"
   ]
  },
  {
   "cell_type": "code",
   "execution_count": 4,
   "metadata": {},
   "outputs": [
    {
     "data": {
      "text/plain": [
       "{'img': 'C:\\\\Users\\\\aarus\\\\Downloads\\\\slices_for_prompting/slice_0.png',\n",
       " 'pos_polylines': [[[103, 84, 0], [99, 124, 0], [119, 113, 0]]],\n",
       " 'neg_polylines': [[[198, 158, 0], [160, 187, 0], [72, 187, 0], [44, 111, 0]],\n",
       "  [[67, 56, 0], [155, 19, 0], [181, 63, 0]]]}"
      ]
     },
     "execution_count": 4,
     "metadata": {},
     "output_type": "execute_result"
    }
   ],
   "source": [
    "# parsing\n",
    "# pos_points = [[], [], [], ...]\n",
    "# neg_points = [[], [], [], ...]\n",
    "prompt_points = json.load(open('test_data.json'))\n",
    "pos_polylines = []\n",
    "neg_polylines = []\n",
    "\n",
    "for prompt in prompt_points:\n",
    "    if prompt['label'] == 1:\n",
    "        pos_points.append(prompt['point'])\n",
    "    else:\n",
    "        neg_points.append(prompt['point'])\n",
    "\n",
    "\n"
   ]
  },
  {
   "cell_type": "code",
   "execution_count": null,
   "metadata": {},
   "outputs": [],
   "source": [
    "# get pos, neg line segments\n",
    "\n",
    "pos_seg = []\n",
    "neg_seg = []\n",
    "\n",
    "for i, s in enumerate(slices_list):\n",
    "    idx = s['idx']\n",
    "    shape = s['shape']\n",
    "    transform_curr = s['transform']\n",
    "    pos_points_curr = pos_points[i]\n",
    "    neg_points_curr = neg_points[i]\n",
    "\n",
    "    global_pos_points = [scale_transform.coord_to_index(np.array(p).append(idx), transform_curr, shape) for p in pos_points_curr]\n",
    "    global_neg_points = [scale_transform.coord_to_index(np.array(p).append(idx), transform_curr, shape) for p in neg_points_curr]\n",
    "\n",
    "    for i in len(global_pos_points):\n",
    "        pos_seg.append([global_pos_points[i], global_pos_points[i + 1]])\n",
    "        if i == len(global_pos_points) - 1:\n",
    "            break\n",
    "    for i in len(global_neg_points):\n",
    "        neg_seg.append([global_neg_points[i], global_neg_points[i + 1]])\n",
    "        if i == len(global_neg_points) - 1:\n",
    "            break\n",
    "\n",
    "    "
   ]
  },
  {
   "cell_type": "code",
   "execution_count": null,
   "metadata": {},
   "outputs": [],
   "source": [
    "for t in transform_list:\n",
    "    transformed_img = scale_transform.global_to_local(test_1, t)\n",
    "    \n",
    "    z_coord_list = np.linspace(0, transformed_img.shape[2], num_slices + 1, endpoint=False, dtype=int)[1:-1]  \n",
    "    for z in z_coord_list:\n",
    "        slice_transformed_img = transformed_img[:,:,z]\n",
    "        \n",
    "        # calculate intersection points\n",
    "        pos_intersects = []\n",
    "        neg_intersects = []\n",
    "\n",
    "        for p in pos_seg:\n",
    "            pos_intersects.append(scale_transform.get_intersection_point(p[0], p[1], z))\n",
    "        for n in neg_seg:\n",
    "            neg_intersects.append(scale_transform.get_intersection_point(n[0], n[1], z))\n",
    "        \n",
    "        # feed into SAM inference function``\n"
   ]
  },
  {
   "cell_type": "markdown",
   "metadata": {},
   "source": [
    "the notebook we will use\n",
    "\n",
    "\n"
   ]
  }
 ],
 "metadata": {
  "kernelspec": {
   "display_name": "Python 3",
   "language": "python",
   "name": "python3"
  },
  "language_info": {
   "codemirror_mode": {
    "name": "ipython",
    "version": 3
   },
   "file_extension": ".py",
   "mimetype": "text/x-python",
   "name": "python",
   "nbconvert_exporter": "python",
   "pygments_lexer": "ipython3",
   "version": "3.12.1"
  }
 },
 "nbformat": 4,
 "nbformat_minor": 2
}
