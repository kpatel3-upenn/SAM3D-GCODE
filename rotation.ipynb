{
 "cells": [
  {
   "cell_type": "code",
   "execution_count": 3,
   "metadata": {},
   "outputs": [],
   "source": [
    "import geometry\n",
    "import numpy as np\n",
    "import copy\n",
    "\n",
    "import matplotlib.pyplot as plt\n"
   ]
  },
  {
   "cell_type": "code",
   "execution_count": 40,
   "metadata": {},
   "outputs": [],
   "source": [
    "def slice_and_reconstruct_mask(matrix_3d, transform, axis, num_slices, prompting_points):\n",
    "    transformed_array, _ = transform.apply_to_array(matrix_3d, padwith=0)\n",
    "\n",
    "    # get slices indices\n",
    "    length = transformed_array.shape[axis]\n",
    "    slice_indices = np.linspace(0, length, num_slices + 2, dtype=int)[1:-1]  \n",
    "\n",
    "    # initialize mask\n",
    "    incomplete_mask = np.zeros_like(transformed_array)\n",
    "\n",
    "    for idx in slice_indices:\n",
    "        if axis == 0:\n",
    "            slice = transformed_array[idx, :, :]\n",
    "        elif axis == 1:\n",
    "            slice = transformed_array[:, idx, :]\n",
    "        else: \n",
    "            slice = transformed_array[:, :, idx]\n",
    "\n",
    "        l_intersect_points = []\n",
    "\n",
    "        # get list of intersection points on the slice\n",
    "        for i in range(len(prompting_points) - 1):\n",
    "            point1 = prompting_points[i]\n",
    "            point2 = prompting_points[i + 1]\n",
    "\n",
    "            intersection_point = get_intersection_point(point1, point2, idx, transform)\n",
    "            l_intersect_points.append(intersection_point)\n",
    "\n",
    "        if l_intersect_points is not None:\n",
    "            mask = get_mask(slice, l_intersect_points, model)\n",
    "            incomplete_mask[idx, :, :] = mask\n",
    "            \n",
    "    complete_mask = reconstrct_3D_mask(incomplete_mask)\n",
    "    \n",
    "    oriented_mask, _ = transform.apply_to_array(complete_mask, padwith=0, inverse=True)\n",
    "\n",
    "\n",
    "def get_intersection_point(point1, point2, idx, transform):\n",
    "    rotated_point1 = transform.apply_to_point(point1)\n",
    "    rotated_point2 = transform.apply_to_point(point2)\n",
    "\n",
    "    dx = rotated_point2[0] - rotated_point1[0]\n",
    "    dy = rotated_point2[1] - rotated_point1[1]\n",
    "    dz = rotated_point2[2] - rotated_point1[2]\n",
    "\n",
    "    if dx == 0:\n",
    "        return None\n",
    "\n",
    "    t = (idx - rotated_point1[0]) / dx\n",
    "\n",
    "    if 0 <= t <= 1:\n",
    "        y_intercept = rotated_point1[1] + t * dy\n",
    "        z_intercept = rotated_point1[2] + t * dz\n",
    "        return (y_intercept, z_intercept)\n",
    "    else:\n",
    "        return None\n",
    "\n",
    "\n",
    "# given slice, intersection point (on the slice), and segmentation model, get the 2D mask \n",
    "def get_mask_points(slice, l_intersect_points, model):\n",
    "    mask_points = []\n",
    "    return mask_points\n",
    "\n",
    "\n",
    "# interpolation? not sure if we want to do interpolation\n",
    "# in the original matrix\n",
    "def reconstrct_3D_mask(incomplete_mask):\n",
    "    complete_mask = np.zeros_like(incomplete_mask)\n",
    "    return complete_mask\n",
    "\n",
    "\n",
    "\n"
   ]
  },
  {
   "cell_type": "code",
   "execution_count": 4,
   "metadata": {},
   "outputs": [],
   "source": [
    "def coord_convert(l_points, x_w, y_h, z_d):\n",
    "    l_points = np.array(l_points)\n",
    "    l_points = l_points / [x_w, y_h, z_d] * 2 - 1\n",
    "    return l_points\n"
   ]
  },
  {
   "cell_type": "code",
   "execution_count": 7,
   "metadata": {},
   "outputs": [
    {
     "name": "stdout",
     "output_type": "stream",
     "text": [
      "[[-1.   -1.   -1.  ]\n",
      " [-0.75 -0.5  -1.  ]]\n"
     ]
    }
   ],
   "source": [
    "# test coord_convert\n",
    "l_points = [[0, 0, 0], [20, 40, 0]]\n",
    "x_w, y_h, z_d = 160, 160, 160\n",
    "print(coord_convert(l_points, x_w, y_h, z_d))\n"
   ]
  },
  {
   "cell_type": "code",
   "execution_count": null,
   "metadata": {},
   "outputs": [],
   "source": []
  }
 ],
 "metadata": {
  "kernelspec": {
   "display_name": "Python 3",
   "language": "python",
   "name": "python3"
  },
  "language_info": {
   "codemirror_mode": {
    "name": "ipython",
    "version": 3
   },
   "file_extension": ".py",
   "mimetype": "text/x-python",
   "name": "python",
   "nbconvert_exporter": "python",
   "pygments_lexer": "ipython3",
   "version": "3.12.1"
  }
 },
 "nbformat": 4,
 "nbformat_minor": 2
}
