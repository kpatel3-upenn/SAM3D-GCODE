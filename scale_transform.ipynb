{
 "cells": [
  {
   "cell_type": "code",
   "execution_count": 1,
   "metadata": {},
   "outputs": [],
   "source": [
    "import geometry\n",
    "import numpy as np\n",
    "import matplotlib.pyplot as plt\n",
    "\n"
   ]
  },
  {
   "cell_type": "code",
   "execution_count": 38,
   "metadata": {},
   "outputs": [],
   "source": [
    "# scale to zero centric cube\n",
    "def scale_forward (point, shape):\n",
    "    return point / np.array(shape) * 2 - 1\n",
    "\n",
    "# scale to matrix index\n",
    "def scale_backward (point, shape):\n",
    "    return (point + 1) / 2 * np.array(shape)\n",
    "\n",
    "def get_intersection_point(point1, point2, idx):\n",
    "    dx = point2[0] - point1[0]\n",
    "    dy = point2[1] - point1[1]\n",
    "    dz = point2[2] - point1[2]\n",
    "\n",
    "    if dz == 0:\n",
    "        return None\n",
    "\n",
    "    t = (idx - point1[2]) / dz\n",
    "\n",
    "    if 0 <= t <= 1:\n",
    "        x_intercept = point1[0] + t * dx\n",
    "        y_intercept = point1[1] + t * dy\n",
    "        return (x_intercept, y_intercept, idx)\n",
    "    else:\n",
    "        return None\n",
    "\n",
    "# matrix index to zero centric cube\n",
    "def index_to_coord (point, transform, shape):\n",
    "    scaled_point = scale_forward(point, shape)\n",
    "    transform_point = transform.apply_to_point(scaled_point, inverse=True)\n",
    "    return transform_point\n",
    "\n",
    "# zero centric cube to matrix index\n",
    "def coord_to_index (point, transform, shape):\n",
    "    transform_point = transform.apply_to_point(point)\n",
    "    scaled_point = scale_backward(transform_point, shape)\n",
    "    floored_point = np.floor(scaled_point)\n",
    "\n",
    "    return floored_point\n",
    "\n",
    "def global_to_local (image, transform):\n",
    "    return transform.apply_to_array(image)\n",
    "\n",
    "\n"
   ]
  }
 ],
 "metadata": {
  "kernelspec": {
   "display_name": "Python 3",
   "language": "python",
   "name": "python3"
  },
  "language_info": {
   "codemirror_mode": {
    "name": "ipython",
    "version": 3
   },
   "file_extension": ".py",
   "mimetype": "text/x-python",
   "name": "python",
   "nbconvert_exporter": "python",
   "pygments_lexer": "ipython3",
   "version": "3.12.1"
  }
 },
 "nbformat": 4,
 "nbformat_minor": 2
}
